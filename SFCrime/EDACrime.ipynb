{
 "cells": [
  {
   "cell_type": "markdown",
   "metadata": {},
   "source": [
    "# San Francisco Crime Classification\n",
    "### Exploratory Data Analysis and Predicting the category of crimes that occurred in the city by the bay\n",
    "\n",
    "From 1934 to 1963, San Francisco was infamous for housing some of the world's most notorious criminals on the inescapable island of Alcatraz.\n",
    "\n",
    "Today, the city is known more for its tech scene than its criminal past. But, with rising wealth inequality, housing shortages, and a proliferation of expensive digital toys riding BART to work, there is no scarcity of crime in the city by the bay.\n",
    "\n",
    "From Sunset to SOMA, and Marina to Excelsior, this competition's dataset provides nearly 12 years of crime reports from across all of San Francisco's neighborhoods. Given time and location, you must predict the category of crime that occurred.\n",
    "\n",
    "What can we learn about the city through visualizations?"
   ]
  },
  {
   "cell_type": "code",
   "execution_count": null,
   "metadata": {
    "collapsed": true
   },
   "outputs": [],
   "source": [
    "# imports\n",
    "import pandas as pd\n",
    "import numpy as np\n",
    "import matplotlib.pyplot as plt\n",
    "import seaborn as sns\n",
    "%matplotlib inline\n",
    "plt.style.use('ggplot')\n",
    "from __future__ import division\n",
    "import warnings\n",
    "warnings.filterwarnings('ignore')"
   ]
  },
  {
   "cell_type": "code",
   "execution_count": null,
   "metadata": {
    "collapsed": false
   },
   "outputs": [],
   "source": [
    "# read in train and test\n",
    "train = pd.read_csv('train 2.csv')\n",
    "test = pd.read_csv('test 2.csv')\n",
    "# combine both for a couple of visualizations\n",
    "dat = pd.concat([train, test], axis = 0)\n",
    "train.head()"
   ]
  },
  {
   "cell_type": "markdown",
   "metadata": {},
   "source": [
    "#### Transform Dates"
   ]
  },
  {
   "cell_type": "code",
   "execution_count": null,
   "metadata": {
    "collapsed": false
   },
   "outputs": [],
   "source": [
    "train['Dates'] = pd.to_datetime(train.Dates)\n",
    "train['Day'] = train.Dates.dt.day\n",
    "train['Month'] = train.Dates.dt.month\n",
    "train['Minute'] = train.Dates.dt.minute\n",
    "train['Hour'] = train.Dates.dt.hour\n",
    "train['Year'] = train.Dates.dt.year\n",
    "train['Week'] = train.Dates.dt.week\n",
    "train['MonthDay'] = train.Dates.map(lambda x: x.strftime(\"%m-%d\"))\n",
    "train['YearDay'] = train.Dates.map(lambda x: x.strftime(\"%y-%d\"))\n",
    "train['YearMonth'] = train.Dates.map(lambda x: x.strftime(\"%y-%m\"))\n",
    "train['Event'] = 1"
   ]
  },
  {
   "cell_type": "markdown",
   "metadata": {},
   "source": [
    "Pluck out the season of each crime"
   ]
  },
  {
   "cell_type": "code",
   "execution_count": null,
   "metadata": {
    "collapsed": true
   },
   "outputs": [],
   "source": [
    "def get_season(row):\n",
    "    if row in [5, 6, 7]:\n",
    "        return 'summer'\n",
    "    if row in [8, 9, 10]:\n",
    "        return 'fall'\n",
    "    if row in [11, 0, 1]:\n",
    "        return 'winter'\n",
    "    if row in [2, 3, 4]:\n",
    "        return 'spring'\n",
    "    \n",
    "train['Season'] = train['Month'].map(get_season) "
   ]
  },
  {
   "cell_type": "markdown",
   "metadata": {},
   "source": [
    "Combine All Data to show the total number of crimes per day and per month. The spikes in the Year Day are just how the train adn test sets are split"
   ]
  },
  {
   "cell_type": "code",
   "execution_count": null,
   "metadata": {
    "collapsed": false
   },
   "outputs": [],
   "source": [
    "# we use the combined data of train and test sets just for this illistration\n",
    "dat['Dates'] = pd.to_datetime(dat.Dates)\n",
    "dat['Event'] = 1\n",
    "\n",
    "dat['YearMonth'] = dat.Dates.map(lambda x: x.strftime(\"%y-%m\"))\n",
    "yearMonth = dat[['Event', 'YearMonth']].groupby(['YearMonth']).count()\n",
    "yearMonth.columns = ['Crimes']\n",
    "# rolling mean by year\n",
    "yearMonth['Rolling Mean'] = pd.rolling_mean(yearMonth.Crimes, 12)\n",
    "\n",
    "dat['YearDay'] = dat.Dates.map(lambda x: x.strftime(\"%y-%d\"))\n",
    "yearDay = dat[['Event', 'YearDay']].groupby(['YearDay']).count()\n",
    "yearDay.columns = ['Crimes']\n",
    "# rolling mean by 2 weeks\n",
    "yearDay['Rolling Mean'] = pd.rolling_mean(yearDay.Crimes, 14)\n",
    "\n",
    "yearDay.plot(figsize = (18, 6))\n",
    "plt.title('Total Crimes Grouped By Day')\n",
    "plt.ylabel('Number of Crimes')\n",
    "plt.tight_layout()\n",
    "\n",
    "yearMonth.plot(figsize = (18, 6))\n",
    "plt.title('Total Crimes Grouped By Month')\n",
    "plt.ylabel('Number of Crimes')\n",
    "plt.legend()\n",
    "plt.tight_layout()"
   ]
  },
  {
   "cell_type": "markdown",
   "metadata": {},
   "source": [
    "## Categories\n",
    "\n",
    "#### This is the predictor in the dataset\n",
    "We will only be using the training set from now on later, we will predict this variable, but first we will take a deep look at the `Category` column and the other columns used to predict this one"
   ]
  },
  {
   "cell_type": "markdown",
   "metadata": {},
   "source": [
    "Look at total count of crimes for each criminal activity"
   ]
  },
  {
   "cell_type": "code",
   "execution_count": null,
   "metadata": {
    "collapsed": false
   },
   "outputs": [],
   "source": [
    "train.Category.value_counts().plot(kind = 'barh', figsize = (15,10))\n",
    "plt.title('Crimes By Category')\n",
    "plt.tight_layout()"
   ]
  },
  {
   "cell_type": "markdown",
   "metadata": {},
   "source": [
    "Create Kernel Density Plots for each crime type in the dataset to visually show where these crimes occur in the city. First we load in an open street map, so we can later overlay the data on the plot"
   ]
  },
  {
   "cell_type": "code",
   "execution_count": null,
   "metadata": {
    "collapsed": false
   },
   "outputs": [],
   "source": [
    "# load in map and set coordinates for map\n",
    "mapdata = np.loadtxt(\"sf_map_copyright_openstreetmap_contributors.txt\")\n",
    "lon_lat_box = (-122.5247, -122.3366, 37.699, 37.8299)\n",
    "asp = mapdata.shape[0] * 1.0 / mapdata.shape[1]\n",
    "\n",
    "# subset to 300000 for time purposes \n",
    "fac_train = train.dropna()\n",
    "fac_train = fac_train[1:300000] \n",
    "\n",
    "# seaborn FacetGrid, split by crime Category\n",
    "g= sns.FacetGrid(fac_train, col = 'Category', col_wrap = 5, size = 6, aspect = 1 / asp)\n",
    "\n",
    "# show the background map\n",
    "for ax in g.axes:\n",
    "    ax.imshow(mapdata, cmap = plt.get_cmap('gray'), \n",
    "              extent = lon_lat_box, \n",
    "              aspect = asp)\n",
    "    \n",
    "# Kernel Density Estimate plot\n",
    "g.map(sns.kdeplot, 'X', 'Y', clip = clipsize)\n",
    "plt.tight_layout()"
   ]
  },
  {
   "cell_type": "markdown",
   "metadata": {},
   "source": [
    "Next we will dive deeper into the categories and the map and show individual crime incidents for the desired category. The draw_map function takes in a dataframe and an optional desired category to subset the search, while the second plot_amount function takes in a dataframe, category, and timeline and produces a line plot showing the number of crimes grouped per desired time interval along with a desired moving average"
   ]
  },
  {
   "cell_type": "code",
   "execution_count": null,
   "metadata": {
    "collapsed": false
   },
   "outputs": [],
   "source": [
    "from mpl_toolkits.basemap import Basemap\n",
    "\n",
    "def draw_map(df, subset=None, state_boundries=True, fill_land=False):\n",
    "\n",
    "    fig = plt.figure(figsize=(20,10))\n",
    "\n",
    "    # Create a map\n",
    "    map = Basemap(projection='cyl', resolution = 'h', llcrnrlon = -122.5247, llcrnrlat = 37.699,\n",
    "                urcrnrlon = -122.3366, urcrnrlat = 37.8299, lat_0=37.752303, lon_0=-122.445576)\n",
    "    \n",
    "    # Draw state boundries on the map\n",
    "    if state_boundries == True:\n",
    "        map.drawstates()\n",
    "        \n",
    "    # Draw the coastlines on the map\n",
    "#     map.drawcoastlines()\n",
    "\n",
    "    # Draw country borders on the map\n",
    "#     map.drawcountries()\n",
    "\n",
    "    # Fill the land with grey\n",
    "    if fill_land == True:\n",
    "        map.fillcontinents(color = '#888888')\n",
    "\n",
    "    # Draw the map boundaries\n",
    "#     map.drawmapboundary(fill_color = '#f4f4f4')\n",
    "\n",
    "    # Define our subset, longitude and latitude points \n",
    "    df = df[df['Category'] == subset]\n",
    "    x, y = map(df['X'].values, df['Y'].values)\n",
    "    \n",
    "    # Overlay open street map\n",
    "    mapdata = np.loadtxt(\"sf_map_copyright_openstreetmap_contributors.txt\")\n",
    "    lon_lat_box = (-122.5247, -122.3366, 37.699, 37.8299)\n",
    "    asp = mapdata.shape[0] * 1.0 / mapdata.shape[1]\n",
    "    plt.imshow(mapdata, extent = lon_lat_box, aspect = asp, cmap=plt.get_cmap('gray'))\n",
    "    map.plot(x, y, 'bo')\n",
    "\n",
    "    # Show the map\n",
    "    plt.show()"
   ]
  },
  {
   "cell_type": "code",
   "execution_count": null,
   "metadata": {
    "collapsed": true
   },
   "outputs": [],
   "source": [
    "def plot_amount(df, subset, roll_num, group):\n",
    "    df['Event'] = 1\n",
    "    df = df[df.Category == subset]\n",
    "\n",
    "    df = df[['Event', group]].groupby([group]).count()\n",
    "    df.columns = ['Crimes']\n",
    "    # rolling mean\n",
    "    df['Rolling Mean'] = pd.rolling_mean(df.Crimes, roll_num)\n",
    "\n",
    "    df.plot(figsize = (18, 6))\n",
    "    plt.title('Total Crimes Grouped By Month')\n",
    "    plt.ylabel('Number of Crimes')\n",
    "    plt.tight_layout()"
   ]
  },
  {
   "cell_type": "markdown",
   "metadata": {},
   "source": [
    "Lets take a look at a few of the individual categories\n",
    "\n",
    "##### Prostitution"
   ]
  },
  {
   "cell_type": "code",
   "execution_count": null,
   "metadata": {
    "collapsed": false
   },
   "outputs": [],
   "source": [
    "draw_map(train, 'PROSTITUTION')"
   ]
  },
  {
   "cell_type": "code",
   "execution_count": null,
   "metadata": {
    "collapsed": false
   },
   "outputs": [],
   "source": [
    "# prostitution grouped my month with 12 month moving average\n",
    "plot_amount(train, 'PROSTITUTION', 12, 'YearMonth')"
   ]
  },
  {
   "cell_type": "markdown",
   "metadata": {},
   "source": [
    "##### Suicide"
   ]
  },
  {
   "cell_type": "code",
   "execution_count": null,
   "metadata": {
    "collapsed": false
   },
   "outputs": [],
   "source": [
    "draw_map(train, 'SUICIDE')"
   ]
  },
  {
   "cell_type": "code",
   "execution_count": null,
   "metadata": {
    "collapsed": false
   },
   "outputs": [],
   "source": [
    "# suicide grouped by month with 12 month moving average\n",
    "plot_amount(train, 'SUICIDE', 12, 'YearMonth')"
   ]
  },
  {
   "cell_type": "markdown",
   "metadata": {},
   "source": [
    "Check if the peak for one of the months is statistically different than the others "
   ]
  },
  {
   "cell_type": "code",
   "execution_count": null,
   "metadata": {
    "collapsed": false
   },
   "outputs": [],
   "source": [
    "import scipy.stats as sm\n",
    "\n",
    "# whats that peak \n",
    "suicide_df = train[train.Category == 'SUICIDE']\n",
    "suicide_aug_2009 = suicide_df[(suicide_df.Year == 2009) & (suicide_df.Month == 8)]\n",
    "highest_number = suicide_aug_2009[['Month', 'Event']].groupby('Month').count().values\n",
    "\n",
    "# t test for the peak modeling the samples as a Poisson distribution\n",
    "num_occ_suicide = suicide_df[['YearMonth', 'Event']].groupby('YearMonth').count().reset_index().Event.values\n",
    "rvs = sm.poisson.rvs(mu = num_occ_suicide, loc = num_occ_suicide)\n",
    "t_test = sm.ttest_1samp(rvs, highest_number)\n",
    "print 'The T-Stat for August 2009 is:', t_test.statistic[0][0]\n",
    "print 'P-Value for August 2009 is:', t_test.pvalue[0][0], 'which is significant'"
   ]
  },
  {
   "cell_type": "markdown",
   "metadata": {},
   "source": [
    "##### Drunkenness"
   ]
  },
  {
   "cell_type": "code",
   "execution_count": null,
   "metadata": {
    "collapsed": false
   },
   "outputs": [],
   "source": [
    "draw_map(train, 'DRUNKENNESS')"
   ]
  },
  {
   "cell_type": "code",
   "execution_count": null,
   "metadata": {
    "collapsed": false
   },
   "outputs": [],
   "source": [
    "# drunkenness grouped my day with 2 week moving average\n",
    "plot_amount(train, 'DRUNKENNESS', 14, 'YearDay')"
   ]
  },
  {
   "cell_type": "markdown",
   "metadata": {},
   "source": [
    "##### Vehicle Theft"
   ]
  },
  {
   "cell_type": "code",
   "execution_count": null,
   "metadata": {
    "collapsed": false
   },
   "outputs": [],
   "source": [
    "# use kde as scatter plot is too dense\n",
    "vehicle_theft = train[train.Category == 'VEHICLE THEFT']\n",
    "lon_lat_box = (-122.5247, -122.3366, 37.699, 37.8299)\n",
    "clipsize = [[-122.5247, -122.3366],[ 37.699, 37.8299]]\n",
    "\n",
    "\n",
    "plt.figure(figsize=(20,20 * asp))\n",
    "ax = sns.kdeplot(vehicle_theft.X, vehicle_theft.Y, clip = clipsize, aspect = 1 / asp)\n",
    "ax.imshow(mapdata, cmap = plt.get_cmap('gray'), \n",
    "              extent = lon_lat_box, aspect = asp)\n",
    "plt.tight_layout()"
   ]
  },
  {
   "cell_type": "code",
   "execution_count": null,
   "metadata": {
    "collapsed": false
   },
   "outputs": [],
   "source": [
    "# # vehicle theft grouped my day with 2 week moving average\n",
    "plot_amount(train, 'VEHICLE THEFT', 14, 'YearDay')"
   ]
  },
  {
   "cell_type": "markdown",
   "metadata": {},
   "source": [
    "This plot is interesting. The drop around the year 2006 is peculiar, so lets take a deeper look into this category. So with this category, lets look at the Description tag and try to determine what is going on here. This function analyses each description and if the words associated with a stolen vehicle are involved, we assign the new created  column with stolen or not stolen"
   ]
  },
  {
   "cell_type": "code",
   "execution_count": null,
   "metadata": {
    "collapsed": true
   },
   "outputs": [],
   "source": [
    "def stolen_map(row):\n",
    "    for item in ['STOLEN','GRAND THEFT','RENTAL']:\n",
    "        if item in row:\n",
    "            return 'Stolen'\n",
    "        else:\n",
    "            return 'Not Stolen'\n",
    "        \n",
    "vehicle_theft['Stolen'] = train.Descript.map(stolen_map)"
   ]
  },
  {
   "cell_type": "markdown",
   "metadata": {},
   "source": [
    "It looks like there were a lot of vehicle recoveries that were no longer reported after 2006. There were zero 'Not Stolen' vehicles after around 2007 with only a couple in the year 2006 Not Stolen So before when we calculated “vehicle thefts per day” we ended up with twice as many cars being “stolen” prior to 2006. Perhaps this can be determined by a different classification tactic by the police."
   ]
  },
  {
   "cell_type": "code",
   "execution_count": null,
   "metadata": {
    "collapsed": false
   },
   "outputs": [],
   "source": [
    "stolen = vehicle_theft[vehicle_theft.Stolen == 'Stolen']\n",
    "not_stolen = vehicle_theft[vehicle_theft.Stolen != 'Stolen']\n",
    "\n",
    "ax = not_stolen[['YearDay', 'Event']].groupby('YearDay').count().plot(figsize = (18, 6), \n",
    "                                                                 title = 'Not Stolen in VEHICLE THEFT')\n",
    "stolen[['YearDay', 'Event']].groupby('YearDay').count().plot(figsize = (18, 6), \n",
    "                                                                  title = 'Stolen By Day in VEHICLE THEFT', ax = ax)\n",
    "\n",
    "plt.title('Stolen By Day(Blue) and Not Stolen(Red) in VEHICLE THEFT')\n",
    "plt.tight_layout()"
   ]
  },
  {
   "cell_type": "markdown",
   "metadata": {},
   "source": [
    "We can also visuallize this with bar charts to show the types of incidents. As yu can see from this plot that all of 2006 and later consisted of 'stolen' related incidents, while pre 2006 consisted of a wider range of incidents "
   ]
  },
  {
   "cell_type": "code",
   "execution_count": null,
   "metadata": {
    "collapsed": false
   },
   "outputs": [],
   "source": [
    "plt.figure(figsize = (18,4))\n",
    "vehicle_theft['post2006'] = np.where(vehicle_theft.Year >= 2006, 1, 0)\n",
    "\n",
    "sns.countplot('Descript', hue = 'post2006', data = vehicle_theft)\n",
    "plt.xticks(rotation=90)\n",
    "plt.title('Description For Vehicile Theft Pre and Post 2006')\n",
    "plt.show()"
   ]
  },
  {
   "cell_type": "markdown",
   "metadata": {},
   "source": [
    "We cna also look at the term `recovered` in the description. It look as the same phenomenal as the stolen category and after 2006 this term must have been changed for another"
   ]
  },
  {
   "cell_type": "code",
   "execution_count": null,
   "metadata": {
    "collapsed": false
   },
   "outputs": [],
   "source": [
    "vehicle_theft['Recovered'] = vehicle_theft.Descript.map(lambda x: 1 if 'recovered' in x.lower() else 0)\n",
    "recovered = vehicle_theft[vehicle_theft.Recovered == 1]\n",
    "recovered[['YearDay', 'Event']].groupby('YearDay').count().plot(figsize = (18, 4), title = 'Recovered in VEHICLE THEFT')\n",
    "plt.tight_layout()"
   ]
  },
  {
   "cell_type": "markdown",
   "metadata": {},
   "source": [
    "Lets now take a look at the different type of crimes and classify them into white collar, blue collar, and other crimes. With this we can visualize the different type of areas associated with each type of crime"
   ]
  },
  {
   "cell_type": "code",
   "execution_count": null,
   "metadata": {
    "collapsed": false
   },
   "outputs": [],
   "source": [
    "white_crime = [\"FRAUD\", \"FORGERY/COUNTERFEITING\", \"BAD CHECKS\" , \"EXTORTION\", \"EMBEZZLEMENT\", \"SUSPICIOUS OCC\",\n",
    "              \"BRIBERY\"]\n",
    "\n",
    "blue_crime = [\"VANDALISM\", \"LARCENY/THEFT\", \"STOLEN PROPERTY\", \"ROBBERY\", \"DRIVING UNDER THE INFLUENCE\",\n",
    "             \"DISORDERLY CONDUCT\", \"LIQUOR LAWS\", \"VEHICLE THEFT\", \"ASSAULT\", \"KIDNAPPING\", \"TRESPASS\", \n",
    "             \"ARSON\", \"RECOVERED VEHICLE\"]\n",
    "             \n",
    "other_crime = [\"MISSING PERSON\", \"RUNAWAY\", \"FAMILY OFFENSES\", \"SEX OFFENSES NON FORCIBLE\",\n",
    "             \"PORNOGRAPHY/OBSCENE MAT\", \"WEAPON LAWS\", \"DRUNKENNESS\", \"SUICIDE\", \"TREA\",\n",
    "             \"DRUG/NARCOTIC\", \"SEX OFFENSES FORCIBLE\",  \"LOITERING\"]\n",
    "\n",
    "def collar_crimes(row):\n",
    "    for white in white_crime:\n",
    "        if white in row:\n",
    "            return 'white collar'\n",
    "    for blue in blue_crime:\n",
    "        if blue in row:\n",
    "            return 'blue collar'\n",
    "    for other in other_crime:\n",
    "        if other in row:\n",
    "            return 'other'\n",
    "    return 'misc'\n",
    "        \n",
    "\n",
    "train['collar'] = train.Category.map(collar_crimes)"
   ]
  },
  {
   "cell_type": "markdown",
   "metadata": {},
   "source": [
    "Facet Grid with a KDE with each type"
   ]
  },
  {
   "cell_type": "code",
   "execution_count": null,
   "metadata": {
    "collapsed": false
   },
   "outputs": [],
   "source": [
    "fac_train = train.dropna()\n",
    "fac_train = fac_train[1:300000] \n",
    "\n",
    "g = sns.FacetGrid(fac_train, col = 'collar', col_wrap = 2, size = 4, aspect = 1 / asp)\n",
    "\n",
    "# Show the background map\n",
    "for ax in g.axes:\n",
    "    ax.imshow(mapdata, cmap = plt.get_cmap('gray'), \n",
    "              extent = lon_lat_box, \n",
    "              aspect = asp)\n",
    "# Kernel Density Estimate plot\n",
    "g.map(sns.kdeplot, 'X', 'Y', clip = clipsize)\n",
    "plt.tight_layout()"
   ]
  },
  {
   "cell_type": "markdown",
   "metadata": {},
   "source": [
    "Plot the Time interval for the different types of crimes"
   ]
  },
  {
   "cell_type": "code",
   "execution_count": null,
   "metadata": {
    "collapsed": false
   },
   "outputs": [],
   "source": [
    "white_collar = train[train.collar == 'white collar']\n",
    "blue_collar = train[train.collar == 'blue collar']\n",
    "other_collar = train[train.collar == 'other']\n",
    "\n",
    "ax = white_collar[['YearDay', 'Event']].groupby('YearDay').count().plot(figsize=(18, 4), label = 'white')\n",
    "blue_collar[['YearDay', 'Event']].groupby('YearDay').count().plot(ax = ax)\n",
    "other_collar[['YearDay', 'Event']].groupby('YearDay').count().plot(ax = ax)\n",
    "plt.title('Blue - White Collar, Red - White Collar, Purple - Other')\n",
    "plt.show()"
   ]
  },
  {
   "cell_type": "markdown",
   "metadata": {},
   "source": [
    "The category `OTHER OFFENSES` in the predictive category. Other Offenses is broken down by word in this word cloud to get an idea of the keywords contained in the crimes that were not high enough to obtain their own category. The word in the cloud are the words that appear in the Description Column. It looks like most of the `OTHER OFFENSES` are related to trafic violations."
   ]
  },
  {
   "cell_type": "markdown",
   "metadata": {},
   "source": [
    "WordCloud of OTHER OFFENSES"
   ]
  },
  {
   "cell_type": "code",
   "execution_count": null,
   "metadata": {
    "collapsed": false
   },
   "outputs": [],
   "source": [
    "from wordcloud import WordCloud, STOPWORDS\n",
    "\n",
    "# subset column\n",
    "other_offense_df = train[train.Category == 'OTHER OFFENSES']\n",
    "# combine all words and remove commas \n",
    "other_offense_words = ' '.join(list(other_offense_df.Descript)).replace(',', '')\n",
    "# create word cloud\n",
    "wordcloud = WordCloud(stopwords = STOPWORDS, background_color = 'grey', \n",
    "                      width = 1600, height = 800).generate(other_offense_words)\n",
    "plt.figure(figsize=(14, 10))\n",
    "plt.imshow(wordcloud)\n",
    "plt.tight_layout()"
   ]
  },
  {
   "cell_type": "markdown",
   "metadata": {},
   "source": [
    "## Description\n",
    "Only in train, so can't be for prediction, but it still can be analysed"
   ]
  },
  {
   "cell_type": "code",
   "execution_count": null,
   "metadata": {
    "collapsed": false
   },
   "outputs": [],
   "source": [
    "train['GrandTheft'] = train.Descript.map(lambda x: 1 if 'theft' in x.lower() else 0)\n",
    "print 'Percent of Grand Theft:', train.GrandTheft.sum() / train.shape[0]\n",
    "\n",
    "# percent charged with some type of grand theft\n",
    "grand_theft = train[train.GrandTheft == 1]\n",
    "\n",
    "plt.figure(figsize=(18, 6))\n",
    "sns.countplot('PdDistrict', hue = 'DayOfWeek', data = grand_theft)\n",
    "plt.title('Theft Count Per District Per Day of Week')\n",
    "plt.show()"
   ]
  },
  {
   "cell_type": "code",
   "execution_count": null,
   "metadata": {
    "collapsed": false
   },
   "outputs": [],
   "source": [
    "def auto_related(row):\n",
    "    for item in ['AUTO', 'LICENSE', 'AUTOMOBILE', 'VEHICLES', 'TRAFFIC']:\n",
    "        if item in row:\n",
    "            return 1\n",
    "        else:\n",
    "            return 0\n",
    "        \n",
    "train['Automobile'] = train.Descript.map(auto_related)\n",
    "auto = train[train.Automobile == 1]\n",
    "print 'Percent in dataset:', train.Automobile.sum() / train.shape[0]\n",
    "\n",
    "plt.figure(figsize=(12, 6))\n",
    "plt.subplot(1,2,1)\n",
    "auto.Category.value_counts().plot(kind = 'bar')\n",
    "plt.subplot(1,2,2)\n",
    "(auto.DayOfWeek.value_counts() / auto.shape[0]).plot(kind = 'bar')\n",
    "plt.title('Auto Related Categories')\n",
    "plt.tight_layout()"
   ]
  },
  {
   "cell_type": "code",
   "execution_count": null,
   "metadata": {
    "collapsed": false
   },
   "outputs": [],
   "source": [
    "from sklearn.feature_extraction.text import TfidfVectorizer\n",
    "\n",
    "vect = TfidfVectorizer(stop_words = 'english')\n",
    "descript_dtm = vect.fit_transform(train.Descript)\n",
    "\n",
    "term_df = pd.DataFrame(descript_dtm.toarray())\n",
    "term_df.columns = vect.get_feature_names()\n",
    "\n",
    "train_dtm = train.join(term_df)\n",
    "train_dtm.head()"
   ]
  },
  {
   "cell_type": "markdown",
   "metadata": {},
   "source": [
    "Function to plot any single term in term frequency dataframe and plot the number of occurances per desired time interval. I choose to plot a few, however there is over 900 terms in this dataframe and anything can be ploted here"
   ]
  },
  {
   "cell_type": "code",
   "execution_count": null,
   "metadata": {
    "collapsed": true
   },
   "outputs": [],
   "source": [
    "def find_term(term, cat, typ):\n",
    "    # find similiar words if searched word is not in df, simple way\n",
    "    similiar_words = [word for word in train_dtm.columns if word.startswith(term[0])]\n",
    "    if term in term_df.columns:\n",
    "        # easy way to use tf idf vectorizer for word counter as well\n",
    "        df = train_dtm[train_dtm[term] > 0]\n",
    "        # normalized bar plot\n",
    "        if typ == 'bar':\n",
    "            if df.shape[0] > 0:\n",
    "                (df[cat].value_counts() / df.shape[0]).plot(kind = 'bar', \n",
    "                                        title = '{}: Number of instances: {}'.format(term.upper(), df.shape[0]))\n",
    "                plt.ylabel('Percent')\n",
    "            else:\n",
    "                print 'empty dataframe, try one of these!'\n",
    "                print similiar_words\n",
    "        # line plot \n",
    "        else:\n",
    "            df[[cat, 'Event']].groupby(cat).count().plot(figsize=(18,4))\n",
    "            plt.title('{}: Number of instances: {}'.format(term.upper(), df.shape[0]))\n",
    "            plt.tight_layout()   \n",
    "    else:\n",
    "        print 'term not in dataframe, try one of these!'\n",
    "        print similiar_words"
   ]
  },
  {
   "cell_type": "markdown",
   "metadata": {},
   "source": [
    "Lets look at the trifecta of `Sex`, `Money`, `Drugs` By day of the week"
   ]
  },
  {
   "cell_type": "code",
   "execution_count": null,
   "metadata": {
    "collapsed": false
   },
   "outputs": [],
   "source": [
    "# lets look at sex, money, and drugs\n",
    "plt.figure(figsize=(18,4))\n",
    "plt.subplot(1,3,1)\n",
    "find_term('sex', 'DayOfWeek', 'bar')\n",
    "plt.subplot(1,3,2)\n",
    "find_term('money', 'DayOfWeek', 'bar')\n",
    "plt.subplot(1,3,3)\n",
    "find_term('drugs', 'DayOfWeek', 'bar')"
   ]
  },
  {
   "cell_type": "markdown",
   "metadata": {},
   "source": [
    "And By Year and Month. With these plot youo can definitely see that there is high varity between days of the week(above) and the month and year for these three categories. The `Sex` term seem consistant other than a couple of jumps, however the money realted terms jump heavily after the year 2009"
   ]
  },
  {
   "cell_type": "code",
   "execution_count": null,
   "metadata": {
    "collapsed": false
   },
   "outputs": [],
   "source": [
    "find_term('sex', 'YearMonth', 'line')"
   ]
  },
  {
   "cell_type": "code",
   "execution_count": null,
   "metadata": {
    "collapsed": false
   },
   "outputs": [],
   "source": [
    "# big jump after 2009\n",
    "find_term('money', 'YearMonth', 'line')"
   ]
  },
  {
   "cell_type": "code",
   "execution_count": null,
   "metadata": {
    "collapsed": false
   },
   "outputs": [],
   "source": [
    "find_term('drugs', 'YearMonth', 'line')"
   ]
  },
  {
   "cell_type": "markdown",
   "metadata": {},
   "source": [
    "## PD District\n",
    "\n",
    "This is an interesting category as it is the name of the Police Department District where the crime occurred. First we will plot the count and percent of crimes in each Police District"
   ]
  },
  {
   "cell_type": "code",
   "execution_count": null,
   "metadata": {
    "collapsed": false
   },
   "outputs": [],
   "source": [
    "plt.figure(figsize=(16,8))\n",
    "\n",
    "ax = sns.countplot(\"PdDistrict\", data = train, order = [i for i in train.PdDistrict.value_counts().keys()])\n",
    "plt.title('Bar Plot of District with Percent')\n",
    "# make twin axis\n",
    "ax2=ax.twinx()\n",
    "# switch so count axis is on right, frequency on left\n",
    "ax2.yaxis.tick_left()\n",
    "ax.yaxis.tick_right()\n",
    "# switch the labels over\n",
    "ax.yaxis.set_label_position('right')\n",
    "ax2.yaxis.set_label_position('left')\n",
    "ax2.set_ylabel('Frequency [%]')\n",
    "\n",
    "for p in ax.patches:\n",
    "    x=p.get_bbox().get_points()[:,0]\n",
    "    y=p.get_bbox().get_points()[1,1]\n",
    "    ax.annotate('{:.1f}%'.format(100.0 * y / train.shape[0]), (x.mean(), y), \n",
    "            ha = 'center', va = 'bottom') \n",
    "\n",
    "# fix the frequency range\n",
    "ax2.set_ylim(0,100)\n",
    "ax.set_ylim(0,ncount)\n",
    "ax2.grid(None)"
   ]
  },
  {
   "cell_type": "markdown",
   "metadata": {},
   "source": [
    "Next the 10 most common Crime Categories based on the Police District. This is a good representation of the combination of the amount and type of crime per district"
   ]
  },
  {
   "cell_type": "code",
   "execution_count": null,
   "metadata": {
    "collapsed": false
   },
   "outputs": [],
   "source": [
    "ten_most_common = train[train['Category'].isin(train['Category'].value_counts()[:10].index)]\n",
    "ten_most_crime_by_district = pd.crosstab(ten_most_common.PdDistrict, ten_most_common.Category)\n",
    "ten_most_crime_by_district.plot(kind = 'barh', figsize=(14, 10), stacked = True, colormap = 'Reds')\n",
    "plt.title('Disbribution of the City-wide Ten Most Common Crimes in Each District')\n",
    "plt.tight_layout()"
   ]
  },
  {
   "cell_type": "markdown",
   "metadata": {},
   "source": [
    "Here we show line plots of each police district normalized by the total amount of crimes per district. We do this so the higher crime areas do not look higher than the lower ones. Thefore all of the districts are all on the same scale and we can really see the highest crime rates per desired time interval."
   ]
  },
  {
   "cell_type": "code",
   "execution_count": null,
   "metadata": {
    "collapsed": true
   },
   "outputs": [],
   "source": [
    "# normalized by desired time interval, very jankey way of doing this \n",
    "def normilzed_district_plot(cat):\n",
    "    first_g = train[['PdDistrict', cat, 'Event']].groupby(['PdDistrict', cat]).count().reset_index()\n",
    "    second_g = first_g.groupby('PdDistrict').sum()\n",
    "    total_per_district = second_g.Event\n",
    "    total_dict = dict(total_per_district)\n",
    "\n",
    "    total_df = pd.DataFrame.from_dict(total_dict.items())\n",
    "    total_df.columns = ['PdDistrict', 'Count']\n",
    "    total_df = pd.concat([total_df, total_df, total_df, total_df, total_df, total_df, total_df ,total_df], ignore_index=True) \n",
    "    total_df = pd.concat([total_df, total_df, total_df], ignore_index=True)\n",
    "    total_df = total_df.sort(['PdDistrict']).reset_index()\n",
    "    total_df.drop('index', inplace = True, axis = 1)\n",
    "    \n",
    "    first_g['Norm'] = first_g['Event'] / total_df['Count']\n",
    "    first_g.pivot(cat, 'PdDistrict', 'Norm').plot(figsize = (18,4))\n",
    "    plt.title('PdDistrict by {}'.format(cat))\n",
    "    plt.ylabel('Frequency')\n",
    "    plt.show()"
   ]
  },
  {
   "cell_type": "markdown",
   "metadata": {},
   "source": [
    "By hour. Makes sense that the lowest would be in the middle of the night, interesting the peak at about noon"
   ]
  },
  {
   "cell_type": "code",
   "execution_count": null,
   "metadata": {
    "collapsed": false
   },
   "outputs": [],
   "source": [
    "normilzed_district_plot('Hour')"
   ]
  },
  {
   "cell_type": "markdown",
   "metadata": {},
   "source": [
    "By Minute. Interesting as most reports are probabily rounded by nearest hour and easy interval"
   ]
  },
  {
   "cell_type": "code",
   "execution_count": null,
   "metadata": {
    "collapsed": false
   },
   "outputs": [],
   "source": [
    "normilzed_district_plot('Minute')"
   ]
  },
  {
   "cell_type": "markdown",
   "metadata": {},
   "source": [
    "By Year. And you can see the `Tenderloin` had a big peak between the years 2007 - 2010"
   ]
  },
  {
   "cell_type": "code",
   "execution_count": null,
   "metadata": {
    "collapsed": false
   },
   "outputs": [],
   "source": [
    "normilzed_district_plot('Year')"
   ]
  },
  {
   "cell_type": "markdown",
   "metadata": {},
   "source": [
    "## Address"
   ]
  },
  {
   "cell_type": "markdown",
   "metadata": {},
   "source": [
    "Next is disecting the address column. Here we pick out three things. First if the address contains the world block, second we pick out the ending address like `ST`, or `AV`, or `RD`. And lastly we find the `/` character showing that the crime occurred on a street corner."
   ]
  },
  {
   "cell_type": "code",
   "execution_count": null,
   "metadata": {
    "collapsed": true
   },
   "outputs": [],
   "source": [
    "train['Block'] = train.Address.map(lambda x: 1 if 'block' in x.lower() else 0).astype(np.float64)\n",
    "train['EndAddress'] = train.Address.map(lambda x: x[-2:])\n",
    "train['Intersection'] = train.Address.map(lambda x: 1 if '/' in x else 0).astype(np.float64)"
   ]
  },
  {
   "cell_type": "markdown",
   "metadata": {},
   "source": [
    "Interesting that the top 3 categories switched in these two plots of intersection crimes, by having other offensises surpass larceny/theft. And non-criminal pass other when there is the term block in the address"
   ]
  },
  {
   "cell_type": "code",
   "execution_count": null,
   "metadata": {
    "collapsed": false
   },
   "outputs": [],
   "source": [
    "def plot_subset(row, cat, top):\n",
    "    df = train[train[row] == 1]\n",
    "    df[cat].value_counts()[:top].plot(kind = 'bar')\n",
    "    plt.title('Top {} for {} and {}'.format(top, row.upper(), cat))\n",
    "    plt.ylabel('Count')\n",
    "    plt.xlabel('Crime Categories')\n",
    "    \n",
    "plt.figure(figsize=(18,4))    \n",
    "plt.subplot(1,2,1)  \n",
    "plot_subset('Intersection', 'Category', 10)\n",
    "plt.subplot(1,2,2)    \n",
    "plot_subset('Block', 'Category', 10)"
   ]
  },
  {
   "cell_type": "markdown",
   "metadata": {},
   "source": [
    "Now we can plot the Crimes Percent by ending address. However, not too informative for our purposes, but an interesting visualization. Is there really that many roads labelled `ST` in San Francisco"
   ]
  },
  {
   "cell_type": "code",
   "execution_count": null,
   "metadata": {
    "collapsed": false
   },
   "outputs": [],
   "source": [
    "end_address = train[['EndAddress', 'Event']].groupby(['EndAddress']).count()\n",
    "(end_address.Event / train.shape[0]).plot(kind = 'bar', figsize = (14,4))\n",
    "plt.title('Crimes Percent By Ending Street Address')\n",
    "plt.tight_layout()"
   ]
  },
  {
   "cell_type": "markdown",
   "metadata": {},
   "source": [
    "Create Log Odd for Address Field"
   ]
  },
  {
   "cell_type": "code",
   "execution_count": null,
   "metadata": {
    "collapsed": false
   },
   "outputs": [],
   "source": [
    "# example \n",
    "logodds2['800 Block of BRYANT ST'].plot(kind = 'barh', figsize = (10,5))\n",
    "plt.title('Log Odds for Address')\n",
    "plt.tight_layout()"
   ]
  },
  {
   "cell_type": "markdown",
   "metadata": {},
   "source": [
    "### Resolution\n",
    "\n",
    "This is also not in the test dataset, as it is how the crime incident was resolved. However, a couple interesting things can be seen. First off, over 60% of the crimes, no action was taken. Some lenient cops! "
   ]
  },
  {
   "cell_type": "code",
   "execution_count": null,
   "metadata": {
    "collapsed": false
   },
   "outputs": [],
   "source": [
    "(train.Resolution.value_counts() / train.shape[0]).plot(kind = 'barh', figsize = (10,5))\n",
    "plt.title('Crime Resolutions')\n",
    "plt.tight_layout()"
   ]
  },
  {
   "cell_type": "markdown",
   "metadata": {},
   "source": [
    "Next we can look at what Police Districts seemed to take more actions than others. This plot is really interesting as the only police district that took more actions than not is the `TENDERLOIN`. And the amount is not even close here."
   ]
  },
  {
   "cell_type": "code",
   "execution_count": null,
   "metadata": {
    "collapsed": false
   },
   "outputs": [],
   "source": [
    "plt.figure(figsize=(14, 6))\n",
    "train['NoResolution'] = train.Resolution.map(lambda x: 'NoActionTaken' if x == 'NONE' else 'ActionTaken')\n",
    "sns.countplot('PdDistrict', hue = 'NoResolution', data = train)\n",
    "plt.title('Action Taken in Crime Per District')\n",
    "plt.tight_layout()"
   ]
  },
  {
   "cell_type": "markdown",
   "metadata": {},
   "source": [
    "Now that we see this lets take a little deeper dive into the `TENDERLOIN` police district and find out which crimes are contributing to this. It looks at the are more drugs/narcotics with higher churn rates and less larceny/thefts and other petty thefts that might be let go more often. This police district might be focusing more drug rated incidents than others"
   ]
  },
  {
   "cell_type": "code",
   "execution_count": null,
   "metadata": {
    "collapsed": false
   },
   "outputs": [],
   "source": [
    "# tenderloin pdDistrict\n",
    "tenderloin = train[train.PdDistrict == 'TENDERLOIN']\n",
    "tenderloin = tenderloin.groupby(['Category', 'NoResolution'])['Category'].count().unstack('NoResolution').fillna(0)\n",
    "tenderloin[['ActionTaken','NoActionTaken']].plot(kind='bar', figsize=(14, 6), title = 'Tenderloin Crimes')\n",
    "\n",
    "# all other pdDistricts\n",
    "not_tenderloin = train[train.PdDistrict != 'TENDERLOIN']\n",
    "not_tenderloin = not_tenderloin.groupby(['Category', 'NoResolution'])['Category'].count().unstack('NoResolution').fillna(0)\n",
    "not_tenderloin[['ActionTaken','NoActionTaken']].plot(kind='bar', figsize=(14, 6), title = 'Not Tenderloin Crimes')\n",
    "plt.show()"
   ]
  },
  {
   "cell_type": "markdown",
   "metadata": {},
   "source": [
    "Next we can try and look at the Juveniles that were atleast book and cited in the dataset"
   ]
  },
  {
   "cell_type": "code",
   "execution_count": null,
   "metadata": {
    "collapsed": false
   },
   "outputs": [],
   "source": [
    "train['Juvenile'] = train.Resolution.map(lambda x: 1 if 'juvenile' in x.lower() else 0)\n",
    "# how many issued juveniles in data set\n",
    "print 'Percent of Juvinile in data that were atleast booked {:.2f}%'.format((train.Juvenile.sum() / train.shape[0])*100)"
   ]
  },
  {
   "cell_type": "markdown",
   "metadata": {},
   "source": [
    "Although it is not a hug subset of the data it is interesting the the summer break months are lower than the school months"
   ]
  },
  {
   "cell_type": "code",
   "execution_count": null,
   "metadata": {
    "collapsed": false
   },
   "outputs": [],
   "source": [
    "juvinile = train[train.Juvenile == 1]\n",
    "juvinile['Event'] = 1\n",
    "\n",
    "non_juvinile = train[train.Juvenile != 1]\n",
    "non_juvinile['Event'] = 1\n",
    "\n",
    "fig, axs = plt.subplots(1,2)\n",
    "\n",
    "juvinile[['Month', 'Event']].groupby(['Month']).count().plot(kind = 'bar', ax = axs[0], figsize = (12,4), \n",
    "                                                            title = 'Juvinile Booked Crimes Per Month')\n",
    "\n",
    "non_juvinile[['Month', 'Event']].groupby(['Month']).count().plot(kind = 'bar', ax = axs[1],\n",
    "                                                            title = 'Non Juvinile Booked Crimes Per Month')\n",
    "plt.tight_layout()"
   ]
  },
  {
   "cell_type": "markdown",
   "metadata": {},
   "source": [
    "# Prediction\n",
    "\n",
    "After performing Exploratory Data Analysis and dtermining some important predicotrs for predicting the crime category, it is now time to the perform machine learning pipeline. Note some of this will be the same as above"
   ]
  },
  {
   "cell_type": "code",
   "execution_count": 37,
   "metadata": {
    "collapsed": false
   },
   "outputs": [
    {
     "name": "stdout",
     "output_type": "stream",
     "text": [
      "Once deleted, variables cannot be recovered. Proceed (y/[n])? y\n"
     ]
    }
   ],
   "source": [
    "# first clear variables for memory issues\n",
    "%reset"
   ]
  },
  {
   "cell_type": "code",
   "execution_count": 2,
   "metadata": {
    "collapsed": false
   },
   "outputs": [],
   "source": [
    "import pandas as pd\n",
    "import numpy as np\n",
    "\n",
    "# read in data\n",
    "train = pd.read_csv('train 2.csv')\n",
    "test = pd.read_csv('test 2.csv')\n",
    "\n",
    "# drop columns not in test\n",
    "train.drop(['Descript', 'Resolution'], axis = 1, inplace = True)"
   ]
  },
  {
   "cell_type": "markdown",
   "metadata": {},
   "source": [
    "Transfrom Dates"
   ]
  },
  {
   "cell_type": "code",
   "execution_count": 3,
   "metadata": {
    "collapsed": true
   },
   "outputs": [],
   "source": [
    "for dat in (train, test):\n",
    "    dat['Dates'] = pd.to_datetime(dat.Dates)\n",
    "    dat['Day'] = dat.Dates.dt.day\n",
    "    dat['Month'] = dat.Dates.dt.month\n",
    "    dat['Minute'] = dat.Dates.dt.minute\n",
    "    dat['Hour'] = dat.Dates.dt.hour\n",
    "    dat['Year'] = dat.Dates.dt.year\n",
    "    dat['Week'] = dat.Dates.dt.week\n",
    "    dat.drop(['Dates'], axis = 1, inplace = True)"
   ]
  },
  {
   "cell_type": "markdown",
   "metadata": {},
   "source": [
    "Add Season "
   ]
  },
  {
   "cell_type": "code",
   "execution_count": 4,
   "metadata": {
    "collapsed": true
   },
   "outputs": [],
   "source": [
    "def get_season_binary(row):\n",
    "    summer, fall, winter, spring = 0, 0, 0, 0\n",
    "    if row in [5, 6, 7]:\n",
    "        summer = 1\n",
    "    if row in [8, 9, 10]:\n",
    "        fall = 1\n",
    "    if row in [11, 0, 1]:\n",
    "        winter = 1\n",
    "    if row in [2, 3, 4]:\n",
    "        spring = 1\n",
    "    return summer, fall, winter, spring\n",
    "\n",
    "for dat in (train, test):\n",
    "    dat['Summer'], dat['Fall'], dat['Winter'], dat['Spring'] = zip(*dat['Month'].apply(get_season_binary))"
   ]
  },
  {
   "cell_type": "markdown",
   "metadata": {},
   "source": [
    "Address - Add 1 for column if `block` occurs in address and add 1 if it is at an intersection"
   ]
  },
  {
   "cell_type": "code",
   "execution_count": 5,
   "metadata": {
    "collapsed": true
   },
   "outputs": [],
   "source": [
    "for dat in (train, test):\n",
    "    dat['Block'] = dat.Address.map(lambda x: 1 if 'block' in x.lower() else 0).astype(np.float64)\n",
    "    dat['Intersection'] = dat.Address.map(lambda x: 1 if '/' in x else 0).astype(np.float64)"
   ]
  },
  {
   "cell_type": "markdown",
   "metadata": {},
   "source": [
    "One Hot Encoding - Dummy Variables for `DayOfWeek` and `PdDistrict`. I have always liked using pandas get_dummies method over a sklearn implementations"
   ]
  },
  {
   "cell_type": "code",
   "execution_count": 6,
   "metadata": {
    "collapsed": true
   },
   "outputs": [],
   "source": [
    "dummy_vars = ['PdDistrict', 'DayOfWeek']\n",
    "\n",
    "for dummy in dummy_vars:\n",
    "    dummies = pd.get_dummies(train[dummy])\n",
    "    train = train.join(dummies)\n",
    "    dummies = pd.get_dummies(test[dummy])\n",
    "    test = test.join(dummies)"
   ]
  },
  {
   "cell_type": "markdown",
   "metadata": {},
   "source": [
    "Drop Address and recently created dummy varibales fields "
   ]
  },
  {
   "cell_type": "code",
   "execution_count": 7,
   "metadata": {
    "collapsed": false
   },
   "outputs": [],
   "source": [
    "for dat in (train, test):\n",
    "    dat.drop(['DayOfWeek', 'PdDistrict'], axis = 1, inplace = True)\n",
    "    dat.drop(['Address'], axis = 1, inplace = True)"
   ]
  },
  {
   "cell_type": "markdown",
   "metadata": {},
   "source": [
    "Transform `Category` field to numeric integers, just another way of doing LabelEncoder from sklearn with a 1 to 1 mapping"
   ]
  },
  {
   "cell_type": "code",
   "execution_count": 8,
   "metadata": {
    "collapsed": true
   },
   "outputs": [],
   "source": [
    "ordered_crimes = train['Category'].value_counts().index.order()\n",
    "map_values_dic = pd.Series(range(0, len(ordered_crimes)), index = ordered_crimes).to_dict()\n",
    "\n",
    "train['Category'] = train['Category'].map(map_values_dic)"
   ]
  },
  {
   "cell_type": "markdown",
   "metadata": {},
   "source": [
    "Split data into X without the independant variable, y the independant variable, and final test (not to be used till the end) while droping the `Id` column"
   ]
  },
  {
   "cell_type": "code",
   "execution_count": 9,
   "metadata": {
    "collapsed": true
   },
   "outputs": [],
   "source": [
    "X = train.copy()\n",
    "y = X.pop('Category').values\n",
    "X = X.values\n",
    "test = test.drop('Id', axis = 1).copy().values"
   ]
  },
  {
   "cell_type": "markdown",
   "metadata": {},
   "source": [
    "### Modeling Time"
   ]
  },
  {
   "cell_type": "markdown",
   "metadata": {},
   "source": [
    "Split the data into training and testing sets from the original training set"
   ]
  },
  {
   "cell_type": "code",
   "execution_count": 10,
   "metadata": {
    "collapsed": false
   },
   "outputs": [
    {
     "name": "stdout",
     "output_type": "stream",
     "text": [
      "(658536, 31) (219513, 31)\n"
     ]
    }
   ],
   "source": [
    "from sklearn.cross_validation import train_test_split\n",
    "\n",
    "X_train, X_test, y_train, y_test = train_test_split(X, y, random_state = 100)\n",
    "print X_train.shape, X_test.shape"
   ]
  },
  {
   "cell_type": "markdown",
   "metadata": {},
   "source": [
    "Simple classifier function that in a desired classifier and optional probability paramater if predicted probabilities are desired. We will fit the classifier, predict with the classifier and we will print out both the classification accuracy (number of correctly predicted categories divided by the total number) and the log loss (negitive expected log probability) in terms of using predicted probabilities."
   ]
  },
  {
   "cell_type": "code",
   "execution_count": 11,
   "metadata": {
    "collapsed": true
   },
   "outputs": [],
   "source": [
    "from sklearn.metrics import log_loss, accuracy_score\n",
    "\n",
    "def simple_classifier(clf, probability=False):\n",
    "    \n",
    "    clf.fit(X_train, y_train)\n",
    "    \n",
    "    if probability:\n",
    "        pred_train = clf.predict_proba(X_train)\n",
    "        pred_test = clf.predict_proba(X_test)\n",
    "    else:\n",
    "        pred_train = clf.predict(X_train)\n",
    "        pred_test = clf.predict(X_test) \n",
    "\n",
    "    # for the normal person, classification accuracy \n",
    "    clf_train = clf.score(X_train, y_train)\n",
    "    clf_test = clf.score(X_test, y_test)\n",
    "    print '{} train/test classification accuracies: {:.3f}/{:.3f}'.format(\n",
    "        clf.__class__.__name__, clf_train, clf_test)\n",
    "\n",
    "    # for the statistician, log loss - negative expected log probability\n",
    "    # -log P(yt|yp) = -(yt log(yp) + (1 - yt) log(1 - yp))\n",
    "    clf_train_logloss = log_loss(y_train, pred_train)\n",
    "    clf_test_logloss = log_loss(y_test, pred_test)\n",
    "    print '{} train/test log los:s {:.3f}/{:.3f}'.format(\n",
    "        clf.__class__.__name__, clf_train_logloss, clf_test_logloss)"
   ]
  },
  {
   "cell_type": "markdown",
   "metadata": {},
   "source": [
    "Simple Logistic Regression with a couple of hyperparamaters to reduce the complexity of the model, just to get an idea of what we are dealing with here. Here, it is obvious that a single linear separator is not going to be the answer to such a problem."
   ]
  },
  {
   "cell_type": "code",
   "execution_count": 12,
   "metadata": {
    "collapsed": false
   },
   "outputs": [
    {
     "data": {
      "text/plain": [
       "LogisticRegression(C=0.01, class_weight=None, dual=False, fit_intercept=True,\n",
       "          intercept_scaling=1, max_iter=100, multi_class='ovr', n_jobs=1,\n",
       "          penalty='l2', random_state=100, solver='liblinear', tol=0.0001,\n",
       "          verbose=0, warm_start=False)"
      ]
     },
     "execution_count": 12,
     "metadata": {},
     "output_type": "execute_result"
    }
   ],
   "source": [
    "from sklearn.linear_model import LogisticRegression\n",
    "\n",
    "log_reg = LogisticRegression(penalty = 'l2', C = 0.01, \n",
    "                          random_state = 100)\n",
    "\n",
    "simple_classifier(log_reg, probability = True)"
   ]
  },
  {
   "cell_type": "markdown",
   "metadata": {},
   "source": [
    "Grid Search to find the best C parameter for model complexity, the Inverse of regularization strength with L2. We then can use this found parameter later."
   ]
  },
  {
   "cell_type": "code",
   "execution_count": 1,
   "metadata": {
    "collapsed": true
   },
   "outputs": [],
   "source": [
    "from sklearn.grid_search import GridSearchCV\n",
    "from sklearn.linear_model import LogisticRegression\n",
    "\n",
    "param_grid = {\n",
    "    'C' : [1, 0.1, 0.01, 0.001]\n",
    "}\n",
    "\n",
    "clf = LogisticRegression(penalty = 'l2')\n",
    "\n",
    "grid = GridSearchCV(clf, param_grid, cv = 3, scoring = 'log_loss')\n",
    "grid.fit(X_train, y_train)"
   ]
  },
  {
   "cell_type": "markdown",
   "metadata": {},
   "source": [
    "Next I would try a Support Vector Machine, however with its O(n*3) runtime, it would not be reasonable for my purposes, especially if I need to use parameter tuning with grid search, randomized grid search would help but still way too computationally expensive. So lets try an Simple Decision Tree that might work better with our type of data."
   ]
  },
  {
   "cell_type": "code",
   "execution_count": 13,
   "metadata": {
    "collapsed": false
   },
   "outputs": [
    {
     "name": "stdout",
     "output_type": "stream",
     "text": [
      "DecisionTreeClassifier train/test classification accuracies: 0.883/0.242\n",
      "DecisionTreeClassifier train/test log los:s 0.180/25.421\n"
     ]
    }
   ],
   "source": [
    "from sklearn.tree import DecisionTreeClassifier\n",
    "\n",
    "tree = DecisionTreeClassifier(criterion = 'entropy', \n",
    "                              max_depth = None)\n",
    "\n",
    "simple_classifier(tree, probability = True)"
   ]
  },
  {
   "cell_type": "markdown",
   "metadata": {},
   "source": [
    "Now lets do some parameter tuning and visualizing for our Decision Tree Classifier. Here we compute the traing and testing scores for each n_estimator with cross validation, by default StratifiedKFold is used for multiclass classification. Next we will plot the plot the accuracy scores with a confidene interval. Here we can tell that the best max_depth is 10. Plotting the validation curve can be a useful trick to determine rather than using grid search."
   ]
  },
  {
   "cell_type": "code",
   "execution_count": 20,
   "metadata": {
    "collapsed": false
   },
   "outputs": [
    {
     "data": {
      "image/png": "[encoded data removed]",
      "text/plain": [
       "<matplotlib.figure.Figure at 0x103cec650>"
      ]
     },
     "metadata": {},
     "output_type": "display_data"
    }
   ],
   "source": [
    "from sklearn.learning_curve import validation_curve\n",
    "from sklearn.tree import DecisionTreeClassifier\n",
    "import matplotlib.pyplot as plt\n",
    "%matplotlib inline\n",
    "from __future__ import division\n",
    "import warnings\n",
    "warnings.filterwarnings('ignore')\n",
    "\n",
    "plt.figure(figsize = (14, 6))\n",
    "\n",
    "# initialize random forest\n",
    "tree = DecisionTreeClassifier()\n",
    "# set param range for n_estimators\n",
    "param_range = [1, 3, 5, 10, 15, 20]\n",
    "\n",
    "# create training / testing scores for n_estimators with cross validation\n",
    "train_scores, test_scores = validation_curve(\n",
    "                estimator = tree, \n",
    "                X = X_train, \n",
    "                y = y_train, \n",
    "                param_name = 'max_depth', \n",
    "                param_range = param_range,\n",
    "                cv = 3,\n",
    "                scoring = 'accuracy')\n",
    "\n",
    "# get mean and std for scores\n",
    "train_mean = np.mean(train_scores, axis = 1)\n",
    "train_std = np.std(train_scores, axis = 1)\n",
    "test_mean = np.mean(test_scores, axis = 1)\n",
    "test_std = np.std(test_scores, axis = 1)\n",
    "\n",
    "# plot training points\n",
    "plt.plot(param_range, train_mean, \n",
    "         color = 'blue', marker = 'o', \n",
    "         markersize = 5, label = 'training accuracy')\n",
    "\n",
    "# plot training confidence intervals\n",
    "plt.fill_between(param_range, train_mean + train_std,\n",
    "                 train_mean - train_std, alpha = 0.15,\n",
    "                 color = 'blue')\n",
    "\n",
    "# plot testing points\n",
    "plt.plot(param_range, test_mean, \n",
    "         color = 'green', linestyle = '--', \n",
    "         marker = 's', markersize = 5, \n",
    "         label = 'validation accuracy')\n",
    "\n",
    "# plot testing confidence intervals\n",
    "plt.fill_between(param_range, \n",
    "                 test_mean + test_std,\n",
    "                 test_mean - test_std, \n",
    "                 alpha = 0.15, color = 'green')\n",
    "\n",
    "plt.grid()\n",
    "plt.legend()\n",
    "plt.title('Decision Tree Validation Curve')\n",
    "plt.xlabel('max_depth')\n",
    "plt.ylabel('Accuracy')\n",
    "plt.ylim([0.0, 1.0])\n",
    "plt.show()"
   ]
  },
  {
   "cell_type": "markdown",
   "metadata": {},
   "source": [
    "Now lets combine some trees with a built in ensemble classifier with a Random Forest"
   ]
  },
  {
   "cell_type": "code",
   "execution_count": 12,
   "metadata": {
    "collapsed": false
   },
   "outputs": [
    {
     "name": "stdout",
     "output_type": "stream",
     "text": [
      "RandomForestClassifier train/test classification accuracies: 0.883/0.308\n",
      "RandomForestClassifier train/test log los:s 0.461/6.371\n"
     ]
    }
   ],
   "source": [
    "from sklearn.ensemble import RandomForestClassifier\n",
    "\n",
    "rf = RandomForestClassifier(n_estimators = 50, random_state = 100)\n",
    "\n",
    "simple_classifier(rf, probability = True)"
   ]
  },
  {
   "cell_type": "markdown",
   "metadata": {},
   "source": [
    "The king of Ensembles, Voting Classifier. Weighted Majority Vote based on class probabilities. This will allows us to combine different classification algorithms associated with the individual weights of each classifier. It then becomes a good meta-classifier that balances out individual classifiers weaknesses"
   ]
  },
  {
   "cell_type": "code",
   "execution_count": 22,
   "metadata": {
    "collapsed": true
   },
   "outputs": [],
   "source": [
    "from sklearn.base import BaseEstimator, ClassifierMixin, clone\n",
    "from sklearn.preprocessing import LabelEncoder\n",
    "from sklearn.externals import six\n",
    "from sklearn.pipeline import _name_estimators\n",
    "import operator\n",
    "\n",
    "\n",
    "class MajorityVoteClassifier(BaseEstimator, ClassifierMixin):\n",
    "\n",
    "    def __init__(self, classifiers, vote = 'classlabel', weights = None):\n",
    "\n",
    "        self.classifiers = classifiers\n",
    "        self.named_classifiers = {key: value for key, value\n",
    "                                  in _name_estimators(classifiers)}\n",
    "        self.vote = vote\n",
    "        self.weights = weights\n",
    "\n",
    "    def fit(self, X, y):\n",
    "       \n",
    "        if self.vote not in ('probability', 'classlabel'):\n",
    "            raise ValueError(\"vote must be 'probability' or 'classlabel'\"\n",
    "                             \"; got (vote=%r)\"\n",
    "                             % vote)\n",
    "\n",
    "        if self.weights and len(self.weights) != len(self.classifiers):\n",
    "            raise ValueError('Number of classifiers and weights must be equal'\n",
    "                             '; got %d weights, %d classifiers'\n",
    "                             % (len(self.weights), len(self.classifiers)))\n",
    "\n",
    "        # Use LabelEncoder to ensure class labels start with 0, which\n",
    "        # is important for np.argmax call in self.predict\n",
    "        self.lablenc_ = LabelEncoder()\n",
    "        self.lablenc_.fit(y)\n",
    "        self.classes_ = self.lablenc_.classes_\n",
    "        self.classifiers_ = []\n",
    "        for clf in self.classifiers:\n",
    "            fitted_clf = clone(clf).fit(X, self.lablenc_.transform(y))\n",
    "            self.classifiers_.append(fitted_clf)\n",
    "        return self\n",
    "\n",
    "    def predict(self, X):\n",
    "\n",
    "        if self.vote == 'probability':\n",
    "            maj_vote = np.argmax(self.predict_proba(X), axis=1)\n",
    "        else:  # 'classlabel' vote\n",
    "\n",
    "            #  Collect results from clf.predict calls\n",
    "            predictions = np.asarray([clf.predict(X)\n",
    "                                      for clf in self.classifiers_]).T\n",
    "\n",
    "            maj_vote = np.apply_along_axis(\n",
    "                                      lambda x:\n",
    "                                      np.argmax(np.bincount(x,\n",
    "                                                weights=self.weights)),\n",
    "                                      axis=1,\n",
    "                                      arr=predictions)\n",
    "        maj_vote = self.lablenc_.inverse_transform(maj_vote)\n",
    "        return maj_vote\n",
    "\n",
    "    def predict_proba(self, X):\n",
    "\n",
    "        probas = np.asarray([clf.predict_proba(X)\n",
    "                             for clf in self.classifiers_])\n",
    "        avg_proba = np.average(probas, axis=0, weights=self.weights)\n",
    "        return avg_proba\n",
    "\n",
    "    def get_params(self, deep=True):\n",
    "        \n",
    "        if not deep:\n",
    "            return super(MajorityVoteClassifier, self).get_params(deep=False)\n",
    "        else:\n",
    "            out = self.named_classifiers.copy()\n",
    "            for name, step in six.iteritems(self.named_classifiers):\n",
    "                for key, value in six.iteritems(step.get_params(deep=True)):\n",
    "                    out['%s__%s' % (name, key)] = value\n",
    "            return out"
   ]
  },
  {
   "cell_type": "markdown",
   "metadata": {},
   "source": [
    "Here we use the classifers we have previously tried alone. So we use a Logistic Regression, Random Forest, and Decision Classifier and use the majority voting technique to evaluate the new classifer and see if we can improve on our basic models."
   ]
  },
  {
   "cell_type": "code",
   "execution_count": 33,
   "metadata": {
    "collapsed": false
   },
   "outputs": [
    {
     "name": "stdout",
     "output_type": "stream",
     "text": [
      "Voting Classifier train/test classification accuracies: 0.806/0.319\n",
      "Voting Classifier train/test log loss: 1.235/2.323\n"
     ]
    }
   ],
   "source": [
    "from sklearn.linear_model import LogisticRegression\n",
    "from sklearn.ensemble import RandomForestClassifier\n",
    "from sklearn.neighbors import KNeighborsClassifier\n",
    "from sklearn.tree import DecisionTreeClassifier\n",
    "from sklearn.metrics import log_loss\n",
    "\n",
    "clf1 = LogisticRegression(penalty = 'l2', \n",
    "                          C = 0.01, \n",
    "                          random_state = 100)\n",
    "\n",
    "clf2 = RandomForestClassifier(n_estimators = 50, \n",
    "                              random_state = 100)\n",
    "\n",
    "clf3 = DecisionTreeClassifier(max_depth = 10)\n",
    "\n",
    "mv_clf = MajorityVoteClassifier(\n",
    "                classifiers=[clf1, clf2, clf3], vote = 'probability')\n",
    "\n",
    "mv_clf.fit(X_train, y_train)\n",
    "pred_train = mv_clf.predict_proba(X_train)\n",
    "pred_test = mv_clf.predict_proba(X_test)\n",
    "\n",
    "clf_train = mv_clf.score(X_train, y_train)\n",
    "clf_test = mv_clf.score(X_test, y_test)\n",
    "print 'Voting Classifier train/test classification accuracies: {:.3f}/{:.3f}'.format(clf_train, clf_test)\n",
    "\n",
    "clf_train_logloss = log_loss(y_train, pred_train)\n",
    "clf_test_logloss = log_loss(y_test, pred_test)\n",
    "print 'Voting Classifier train/test log loss: {:.3f}/{:.3f}'.format(clf_train_logloss, clf_test_logloss)"
   ]
  },
  {
   "cell_type": "markdown",
   "metadata": {},
   "source": [
    "Lastly we can try the king of all classification techniques, XGBoost"
   ]
  },
  {
   "cell_type": "code",
   "execution_count": 32,
   "metadata": {
    "collapsed": false
   },
   "outputs": [
    {
     "name": "stdout",
     "output_type": "stream",
     "text": [
      "Voting Classifier train/test log los:s 2.289/2.325\n"
     ]
    }
   ],
   "source": [
    "import xgboost as xgb\n",
    "\n",
    "param_grid = {'objective': 'multi:softprob', 'num_class': len(np.unique(y_train))}\n",
    "\n",
    "X_train_xgb = xgb.DMatrix(X_train, y_train)\n",
    "X_test_xgb = xgb.DMatrix(X_test)\n",
    "\n",
    "xgb = xgb.train(param_grid, X_train_xgb, 20)\n",
    "\n",
    "pred_train = xgb.predict(X_train_xgb)\n",
    "pred_test = xgb.predict(X_test_xgb)\n",
    "\n",
    "# print 'Testing Set Log Loss:', log_loss(y_test, pred) # 0.51542415268\n",
    "xgb_train_logloss = log_loss(y_train, pred_train)\n",
    "xgb_test_logloss = log_loss(y_test, pred_test)\n",
    "print 'XGBoost train/test log loss: {:.3f}/{:.3f}'.format(xgb_train_logloss, xgb_test_logloss)"
   ]
  },
  {
   "cell_type": "markdown",
   "metadata": {},
   "source": [
    "#### Fitting All Training Data"
   ]
  },
  {
   "cell_type": "markdown",
   "metadata": {},
   "source": [
    "Train the Weighted Majority Vote ensemble method on all of the training data"
   ]
  },
  {
   "cell_type": "code",
   "execution_count": 24,
   "metadata": {
    "collapsed": false
   },
   "outputs": [
    {
     "name": "stdout",
     "output_type": "stream",
     "text": [
      "Voting Classifier classification accuracies with all training data: 0.783\n",
      "Voting Classifier log loss with all training data: 1.252\n"
     ]
    }
   ],
   "source": [
    "# run on all training data\n",
    "from sklearn.linear_model import LogisticRegression\n",
    "from sklearn.ensemble import RandomForestClassifier\n",
    "from sklearn.neighbors import KNeighborsClassifier\n",
    "from sklearn.tree import DecisionTreeClassifier\n",
    "from sklearn.metrics import log_loss\n",
    "\n",
    "clf1 = LogisticRegression(penalty = 'l2', \n",
    "                          C = 0.01, \n",
    "                          random_state = 100)\n",
    "\n",
    "clf2 = RandomForestClassifier(n_estimators = 50, \n",
    "                              random_state = 100)\n",
    "\n",
    "clf3 = DecisionTreeClassifier(max_depth = 10)\n",
    "\n",
    "mv_clf = MajorityVoteClassifier(\n",
    "                classifiers=[clf1, clf2, clf3], vote = 'probability')\n",
    "\n",
    "mv_clf.fit(X, y)\n",
    "pred_train = mv_clf.predict_proba(X)\n",
    "pred = mv_clf.predict_proba(test)\n",
    "\n",
    "clf_train = mv_clf.score(X, y)\n",
    "print 'Voting Classifier classification accuracies with all training data: {:.3f}'.format(\n",
    "                                                                clf_train)\n",
    "clf_train_logloss = log_loss(y, pred_train)\n",
    "print 'Voting Classifier log loss with all training data: {:.3f}'.format(\n",
    "                                                                clf_train_logloss)"
   ]
  },
  {
   "cell_type": "code",
   "execution_count": 25,
   "metadata": {
    "collapsed": true
   },
   "outputs": [],
   "source": [
    "import csv\n",
    "import gzip\n",
    "\n",
    "# Create submission to kaggle\n",
    "i = 0\n",
    "\n",
    "with gzip.open('crimesEDA5.csv.gz', 'wt') as outf:\n",
    "    fo = csv.writer(outf, lineterminator='\\n')\n",
    "    fo.writerow(['Id'] + list(ordered_crimes))\n",
    "    for i, pr in enumerate(pred):\n",
    "        fo.writerow([i] + list(pr))"
   ]
  },
  {
   "cell_type": "markdown",
   "metadata": {},
   "source": [
    "Train a xgboost on all of the training data. This results in a Multi-Class Loss of 2.32902 on the withheld Kaggle test set, 72nd of 1077 at the time of submission"
   ]
  },
  {
   "cell_type": "code",
   "execution_count": null,
   "metadata": {
    "collapsed": false
   },
   "outputs": [],
   "source": [
    "import xgboost as xgb\n",
    "\n",
    "param_grid = {'objective': 'multi:softprob', 'num_class': len(np.unique(y))}\n",
    "\n",
    "X_train_xgb = xgb.DMatrix(X, y)\n",
    "X_test_xgb = xgb.DMatrix(X_test)\n",
    "\n",
    "xgb = xgb.train(param_grid, X_train_xgb, 20)\n",
    "\n",
    "pred_train = xgb.predict(X)\n",
    "pred = xgb.predict(X_test_xgb)\n",
    "\n",
    "xgb_train_logloss = log_loss(y, pred_train)\n",
    "print 'XGBoost log loss with all training data: {:.3f}'.format(xgb_train_logloss)"
   ]
  },
  {
   "cell_type": "markdown",
   "metadata": {},
   "source": [
    "Create submission to kaggle"
   ]
  },
  {
   "cell_type": "code",
   "execution_count": null,
   "metadata": {
    "collapsed": true
   },
   "outputs": [],
   "source": [
    "import csv\n",
    "import gzip\n",
    "\n",
    "# Create submission to kaggle\n",
    "i = 0\n",
    "\n",
    "with gzip.open('crimesEDA4.csv.gz', 'wt') as outf:\n",
    "    fo = csv.writer(outf, lineterminator='\\n')\n",
    "    fo.writerow(['Id'] + list(ordered_crimes))\n",
    "    for i, pr in enumerate(pred):\n",
    "        fo.writerow([i] + list(pr))"
   ]
  }
 ],
 "metadata": {
  "kernelspec": {
   "display_name": "Python 2",
   "language": "python",
   "name": "python2"
  },
  "language_info": {
   "codemirror_mode": {
    "name": "ipython",
    "version": 2
   },
   "file_extension": ".py",
   "mimetype": "text/x-python",
   "name": "python",
   "nbconvert_exporter": "python",
   "pygments_lexer": "ipython2",
   "version": "2.7.11"
  }
 },
 "nbformat": 4,
 "nbformat_minor": 0
}
