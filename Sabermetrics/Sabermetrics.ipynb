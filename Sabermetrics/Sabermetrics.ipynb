{
 "cells": [
  {
   "cell_type": "markdown",
   "metadata": {},
   "source": [
    "# Sabermetrics\n",
    "## Creating The Perfect Team\n",
    "Using the median salary from players create the ideal team to win games and predict how many games the newly formed team will win. I will be using the Sean Lahman's Baseball Database. From this database, I will be extract five data sets containing information such as yearly stats and standing, batting statistics, fielding statistics, player names, player salaries and biographical information."
   ]
  },
  {
   "cell_type": "code",
   "execution_count": 1,
   "metadata": {
    "collapsed": true
   },
   "outputs": [],
   "source": [
    "import numpy as np\n",
    "import pandas as pd\n",
    "import matplotlib.pyplot as plt\n",
    "import datetime \n",
    "import seaborn as sns\n",
    "%matplotlib inline\n",
    "\n",
    "from pylab import rcParams\n",
    "rcParams['figure.figsize'] = 8, 5"
   ]
  },
  {
   "cell_type": "markdown",
   "metadata": {},
   "source": [
    "Read a zipfile from http://www.seanlahman.com/baseball-archive/statistics/ with the module requests, stringify the file and open the zipfile "
   ]
  },
  {
   "cell_type": "code",
   "execution_count": 2,
   "metadata": {
    "collapsed": true
   },
   "outputs": [],
   "source": [
    "import requests\n",
    "from StringIO import StringIO\n",
    "from zipfile import ZipFile\n",
    "\n",
    "url = 'http://seanlahman.com/files/database/lahman-csv_2015-01-24.zip'\n",
    "\n",
    "r = requests.get(url).content\n",
    "s = StringIO(r)\n",
    "zf = ZipFile(s)"
   ]
  },
  {
   "cell_type": "markdown",
   "metadata": {},
   "source": [
    "Create a function to open all file and read it into a pandas dataframe"
   ]
  },
  {
   "cell_type": "code",
   "execution_count": 3,
   "metadata": {
    "collapsed": false
   },
   "outputs": [],
   "source": [
    "csv_files = zf.namelist()\n",
    "\n",
    "def unzip_file(filename):\n",
    "    return pd.read_csv(zf.open(csv_files[csv_files.index(filename)]))\n"
   ]
  },
  {
   "cell_type": "markdown",
   "metadata": {},
   "source": [
    "Assign five panda data frames to their respective names and print the head of the salary data frame"
   ]
  },
  {
   "cell_type": "code",
   "execution_count": 4,
   "metadata": {
    "collapsed": false
   },
   "outputs": [],
   "source": [
    "teams = unzip_file('Teams.csv')\n",
    "salaries = unzip_file('Salaries.csv')\n",
    "players = unzip_file('Batting.csv')\n",
    "fielding = unzip_file('Fielding.csv')\n",
    "master = unzip_file('Master.csv')"
   ]
  },
  {
   "cell_type": "code",
   "execution_count": 5,
   "metadata": {
    "collapsed": false
   },
   "outputs": [
    {
     "data": {
      "text/html": [
       "<div>\n",
       "<table border=\"1\" class=\"dataframe\">\n",
       "  <thead>\n",
       "    <tr style=\"text-align: right;\">\n",
       "      <th></th>\n",
       "      <th>yearID</th>\n",
       "      <th>teamID</th>\n",
       "      <th>lgID</th>\n",
       "      <th>playerID</th>\n",
       "      <th>salary</th>\n",
       "    </tr>\n",
       "  </thead>\n",
       "  <tbody>\n",
       "    <tr>\n",
       "      <th>0</th>\n",
       "      <td>1985</td>\n",
       "      <td>ATL</td>\n",
       "      <td>NL</td>\n",
       "      <td>barkele01</td>\n",
       "      <td>870000</td>\n",
       "    </tr>\n",
       "    <tr>\n",
       "      <th>1</th>\n",
       "      <td>1985</td>\n",
       "      <td>ATL</td>\n",
       "      <td>NL</td>\n",
       "      <td>bedrost01</td>\n",
       "      <td>550000</td>\n",
       "    </tr>\n",
       "    <tr>\n",
       "      <th>2</th>\n",
       "      <td>1985</td>\n",
       "      <td>ATL</td>\n",
       "      <td>NL</td>\n",
       "      <td>benedbr01</td>\n",
       "      <td>545000</td>\n",
       "    </tr>\n",
       "    <tr>\n",
       "      <th>3</th>\n",
       "      <td>1985</td>\n",
       "      <td>ATL</td>\n",
       "      <td>NL</td>\n",
       "      <td>campri01</td>\n",
       "      <td>633333</td>\n",
       "    </tr>\n",
       "    <tr>\n",
       "      <th>4</th>\n",
       "      <td>1985</td>\n",
       "      <td>ATL</td>\n",
       "      <td>NL</td>\n",
       "      <td>ceronri01</td>\n",
       "      <td>625000</td>\n",
       "    </tr>\n",
       "  </tbody>\n",
       "</table>\n",
       "</div>"
      ],
      "text/plain": [
       "   yearID teamID lgID   playerID  salary\n",
       "0    1985    ATL   NL  barkele01  870000\n",
       "1    1985    ATL   NL  bedrost01  550000\n",
       "2    1985    ATL   NL  benedbr01  545000\n",
       "3    1985    ATL   NL   campri01  633333\n",
       "4    1985    ATL   NL  ceronri01  625000"
      ]
     },
     "execution_count": 5,
     "metadata": {},
     "output_type": "execute_result"
    }
   ],
   "source": [
    "salaries.head()"
   ]
  },
  {
   "cell_type": "markdown",
   "metadata": {},
   "source": [
    "New data frame containing the median salary for each player with the included the player ID, the first name of the player, the last name of the player and the median salary of the player. I use the median salary insead of the the mean salary for each player because the data for these players are not normally distributed and is skewed, so the median is the better estimate for this alanysis"
   ]
  },
  {
   "cell_type": "code",
   "execution_count": 6,
   "metadata": {
    "collapsed": false
   },
   "outputs": [],
   "source": [
    "# combine all by playerIDs, take the median of salary and subset desired coluns\n",
    "salary_group = salaries.groupby('playerID', as_index = False).median()[['playerID', 'salary']]\n",
    "# merge the master data frame with the created median salary grouping and pluck out desired columns\n",
    "medianSalaries = pd.merge(salary_group, master, on = 'playerID', how = 'inner')[['playerID', 'nameFirst', 'nameLast', 'salary']]"
   ]
  },
  {
   "cell_type": "code",
   "execution_count": 7,
   "metadata": {
    "collapsed": false
   },
   "outputs": [
    {
     "data": {
      "text/html": [
       "<div>\n",
       "<table border=\"1\" class=\"dataframe\">\n",
       "  <thead>\n",
       "    <tr style=\"text-align: right;\">\n",
       "      <th></th>\n",
       "      <th>playerID</th>\n",
       "      <th>nameFirst</th>\n",
       "      <th>nameLast</th>\n",
       "      <th>salary</th>\n",
       "    </tr>\n",
       "  </thead>\n",
       "  <tbody>\n",
       "    <tr>\n",
       "      <th>0</th>\n",
       "      <td>aardsda01</td>\n",
       "      <td>David</td>\n",
       "      <td>Aardsma</td>\n",
       "      <td>419000</td>\n",
       "    </tr>\n",
       "    <tr>\n",
       "      <th>1</th>\n",
       "      <td>aasedo01</td>\n",
       "      <td>Don</td>\n",
       "      <td>Aase</td>\n",
       "      <td>612500</td>\n",
       "    </tr>\n",
       "    <tr>\n",
       "      <th>2</th>\n",
       "      <td>abadan01</td>\n",
       "      <td>Andy</td>\n",
       "      <td>Abad</td>\n",
       "      <td>327000</td>\n",
       "    </tr>\n",
       "    <tr>\n",
       "      <th>3</th>\n",
       "      <td>abadfe01</td>\n",
       "      <td>Fernando</td>\n",
       "      <td>Abad</td>\n",
       "      <td>485000</td>\n",
       "    </tr>\n",
       "    <tr>\n",
       "      <th>4</th>\n",
       "      <td>abbotje01</td>\n",
       "      <td>Jeff</td>\n",
       "      <td>Abbott</td>\n",
       "      <td>255000</td>\n",
       "    </tr>\n",
       "  </tbody>\n",
       "</table>\n",
       "</div>"
      ],
      "text/plain": [
       "    playerID nameFirst nameLast  salary\n",
       "0  aardsda01     David  Aardsma  419000\n",
       "1   aasedo01       Don     Aase  612500\n",
       "2   abadan01      Andy     Abad  327000\n",
       "3   abadfe01  Fernando     Abad  485000\n",
       "4  abbotje01      Jeff   Abbott  255000"
      ]
     },
     "execution_count": 7,
     "metadata": {},
     "output_type": "execute_result"
    }
   ],
   "source": [
    "medianSalaries.head()"
   ]
  },
  {
   "cell_type": "markdown",
   "metadata": {},
   "source": [
    "Subset the data to only include seasons in which the teams played 162 games and seasons after 1947 for a better estimate of the newer population. Compute the per plate appearance rates for singles, doubles, triples, HR, and BB."
   ]
  },
  {
   "cell_type": "code",
   "execution_count": 8,
   "metadata": {
    "collapsed": false
   },
   "outputs": [
    {
     "name": "stdout",
     "output_type": "stream",
     "text": [
      "There are 610, missing valuses for HBP\n"
     ]
    }
   ],
   "source": [
    "# subset data\n",
    "sub_teams = teams[(teams.G == 162) & (teams.yearID > 1947)].copy()\n",
    "\n",
    "# since HBP wasn't recorded until later we need to address issue\n",
    "print 'There are {}, missing valuses for HBP'.format(np.sum(sub_teams.HBP.isnull()))\n",
    "\n",
    "# fill these NA with 0 as it won't change data\n",
    "sub_teams.HBP.fillna(0, inplace = True)\n",
    "\n",
    "# add plate appearances to dataframe, hits + walks + hit by pitch\n",
    "sub_teams['PA'] = sub_teams.H + sub_teams.BB + sub_teams.HBP\n",
    "# add singles to dataframe\n",
    "sub_teams['1B'] = sub_teams.H - sub_teams['2B'] - sub_teams['3B'] - sub_teams['HR']\n",
    "\n",
    "# create new per plate appearances columns\n",
    "for col in ['1B', '2B', '3B', 'HR', 'BB']:\n",
    "    sub_teams[col + '_rate'] = sub_teams[col] / sub_teams.PA\n",
    "team_stats = sub_teams[['teamID', 'yearID', 'W', '1B_rate', '2B_rate', '3B_rate', 'HR_rate', 'BB_rate']]"
   ]
  },
  {
   "cell_type": "code",
   "execution_count": 9,
   "metadata": {
    "collapsed": false
   },
   "outputs": [
    {
     "data": {
      "text/html": [
       "<div>\n",
       "<table border=\"1\" class=\"dataframe\">\n",
       "  <thead>\n",
       "    <tr style=\"text-align: right;\">\n",
       "      <th></th>\n",
       "      <th>teamID</th>\n",
       "      <th>yearID</th>\n",
       "      <th>W</th>\n",
       "      <th>1B_rate</th>\n",
       "      <th>2B_rate</th>\n",
       "      <th>3B_rate</th>\n",
       "      <th>HR_rate</th>\n",
       "      <th>BB_rate</th>\n",
       "    </tr>\n",
       "  </thead>\n",
       "  <tbody>\n",
       "    <tr>\n",
       "      <th>1366</th>\n",
       "      <td>KC1</td>\n",
       "      <td>1961</td>\n",
       "      <td>61</td>\n",
       "      <td>0.514568</td>\n",
       "      <td>0.112383</td>\n",
       "      <td>0.024454</td>\n",
       "      <td>0.046826</td>\n",
       "      <td>0.301769</td>\n",
       "    </tr>\n",
       "    <tr>\n",
       "      <th>1367</th>\n",
       "      <td>LAA</td>\n",
       "      <td>1961</td>\n",
       "      <td>70</td>\n",
       "      <td>0.448310</td>\n",
       "      <td>0.108350</td>\n",
       "      <td>0.010934</td>\n",
       "      <td>0.093936</td>\n",
       "      <td>0.338469</td>\n",
       "    </tr>\n",
       "    <tr>\n",
       "      <th>1377</th>\n",
       "      <td>BAL</td>\n",
       "      <td>1962</td>\n",
       "      <td>77</td>\n",
       "      <td>0.504524</td>\n",
       "      <td>0.119745</td>\n",
       "      <td>0.018095</td>\n",
       "      <td>0.083023</td>\n",
       "      <td>0.274614</td>\n",
       "    </tr>\n",
       "    <tr>\n",
       "      <th>1379</th>\n",
       "      <td>CHA</td>\n",
       "      <td>1962</td>\n",
       "      <td>85</td>\n",
       "      <td>0.499754</td>\n",
       "      <td>0.122850</td>\n",
       "      <td>0.027518</td>\n",
       "      <td>0.045209</td>\n",
       "      <td>0.304668</td>\n",
       "    </tr>\n",
       "    <tr>\n",
       "      <th>1380</th>\n",
       "      <td>CHN</td>\n",
       "      <td>1962</td>\n",
       "      <td>59</td>\n",
       "      <td>0.536278</td>\n",
       "      <td>0.103049</td>\n",
       "      <td>0.029443</td>\n",
       "      <td>0.066246</td>\n",
       "      <td>0.264984</td>\n",
       "    </tr>\n",
       "  </tbody>\n",
       "</table>\n",
       "</div>"
      ],
      "text/plain": [
       "     teamID  yearID   W   1B_rate   2B_rate   3B_rate   HR_rate   BB_rate\n",
       "1366    KC1    1961  61  0.514568  0.112383  0.024454  0.046826  0.301769\n",
       "1367    LAA    1961  70  0.448310  0.108350  0.010934  0.093936  0.338469\n",
       "1377    BAL    1962  77  0.504524  0.119745  0.018095  0.083023  0.274614\n",
       "1379    CHA    1962  85  0.499754  0.122850  0.027518  0.045209  0.304668\n",
       "1380    CHN    1962  59  0.536278  0.103049  0.029443  0.066246  0.264984"
      ]
     },
     "execution_count": 9,
     "metadata": {},
     "output_type": "execute_result"
    }
   ],
   "source": [
    "team_stats.head()"
   ]
  },
  {
   "cell_type": "markdown",
   "metadata": {},
   "source": [
    "Investigate these rates in regards to time. Plot years vs rates. I also included a prelimalary regression line to get a quick estimate of the distribution"
   ]
  },
  {
   "cell_type": "code",
   "execution_count": 10,
   "metadata": {
    "collapsed": false
   },
   "outputs": [
    {
     "data": {
      "image/png": "[encoded data removed]",
      "text/plain": [
       "<matplotlib.figure.Figure at 0x10c3b1610>"
      ]
     },
     "metadata": {},
     "output_type": "display_data"
    },
    {
     "data": {
      "image/png": "[encoded data removed]",
      "text/plain": [
       "<matplotlib.figure.Figure at 0x10c36cd50>"
      ]
     },
     "metadata": {},
     "output_type": "display_data"
    },
    {
     "data": {
      "image/png": "[encoded data removed]",
      "text/plain": [
       "<matplotlib.figure.Figure at 0x10e8a61d0>"
      ]
     },
     "metadata": {},
     "output_type": "display_data"
    },
    {
     "data": {
      "image/png": "[encoded data removed]",
      "text/plain": [
       "<matplotlib.figure.Figure at 0x10fe26450>"
      ]
     },
     "metadata": {},
     "output_type": "display_data"
    },
    {
     "data": {
      "image/png": "[encoded data removed]",
      "text/plain": [
       "<matplotlib.figure.Figure at 0x111363e50>"
      ]
     },
     "metadata": {},
     "output_type": "display_data"
    }
   ],
   "source": [
    "for col in ['1B_rate', '2B_rate', '3B_rate', 'HR_rate', 'BB_rate']:\n",
    "    sns.jointplot('yearID', col, data = team_stats, kind = 'reg', color = 'g')\n",
    "    plt.title(col[0:2] + ' Rate')\n",
    "    plt.xlabel('Year')\n",
    "    plt.ylabel(col[0:2] + ' Rate')"
   ]
  },
  {
   "cell_type": "markdown",
   "metadata": {},
   "source": [
    "Mean normalize the data. Adjust the columns per plate appearance so that the average across teams for each year is 0. I create a function to do just this"
   ]
  },
  {
   "cell_type": "code",
   "execution_count": 11,
   "metadata": {
    "collapsed": false
   },
   "outputs": [
    {
     "data": {
      "text/html": [
       "<div>\n",
       "<table border=\"1\" class=\"dataframe\">\n",
       "  <thead>\n",
       "    <tr style=\"text-align: right;\">\n",
       "      <th></th>\n",
       "      <th>teamID</th>\n",
       "      <th>yearID</th>\n",
       "      <th>W</th>\n",
       "      <th>1B_rate</th>\n",
       "      <th>2B_rate</th>\n",
       "      <th>3B_rate</th>\n",
       "      <th>HR_rate</th>\n",
       "      <th>BB_rate</th>\n",
       "    </tr>\n",
       "  </thead>\n",
       "  <tbody>\n",
       "    <tr>\n",
       "      <th>1366</th>\n",
       "      <td>KC1</td>\n",
       "      <td>1961</td>\n",
       "      <td>61</td>\n",
       "      <td>0.033129</td>\n",
       "      <td>0.002017</td>\n",
       "      <td>0.006760</td>\n",
       "      <td>-0.023555</td>\n",
       "      <td>-0.018350</td>\n",
       "    </tr>\n",
       "    <tr>\n",
       "      <th>1367</th>\n",
       "      <td>LAA</td>\n",
       "      <td>1961</td>\n",
       "      <td>70</td>\n",
       "      <td>-0.033129</td>\n",
       "      <td>-0.002017</td>\n",
       "      <td>-0.006760</td>\n",
       "      <td>0.023555</td>\n",
       "      <td>0.018350</td>\n",
       "    </tr>\n",
       "    <tr>\n",
       "      <th>1377</th>\n",
       "      <td>BAL</td>\n",
       "      <td>1962</td>\n",
       "      <td>77</td>\n",
       "      <td>-0.012365</td>\n",
       "      <td>0.008083</td>\n",
       "      <td>-0.003027</td>\n",
       "      <td>0.008735</td>\n",
       "      <td>-0.001426</td>\n",
       "    </tr>\n",
       "    <tr>\n",
       "      <th>1379</th>\n",
       "      <td>CHA</td>\n",
       "      <td>1962</td>\n",
       "      <td>85</td>\n",
       "      <td>-0.017134</td>\n",
       "      <td>0.011188</td>\n",
       "      <td>0.006397</td>\n",
       "      <td>-0.029079</td>\n",
       "      <td>0.028628</td>\n",
       "    </tr>\n",
       "    <tr>\n",
       "      <th>1380</th>\n",
       "      <td>CHN</td>\n",
       "      <td>1962</td>\n",
       "      <td>59</td>\n",
       "      <td>0.019389</td>\n",
       "      <td>-0.008612</td>\n",
       "      <td>0.008321</td>\n",
       "      <td>-0.008042</td>\n",
       "      <td>-0.011056</td>\n",
       "    </tr>\n",
       "  </tbody>\n",
       "</table>\n",
       "</div>"
      ],
      "text/plain": [
       "     teamID  yearID   W   1B_rate   2B_rate   3B_rate   HR_rate   BB_rate\n",
       "1366    KC1    1961  61  0.033129  0.002017  0.006760 -0.023555 -0.018350\n",
       "1367    LAA    1961  70 -0.033129 -0.002017 -0.006760  0.023555  0.018350\n",
       "1377    BAL    1962  77 -0.012365  0.008083 -0.003027  0.008735 -0.001426\n",
       "1379    CHA    1962  85 -0.017134  0.011188  0.006397 -0.029079  0.028628\n",
       "1380    CHN    1962  59  0.019389 -0.008612  0.008321 -0.008042 -0.011056"
      ]
     },
     "execution_count": 11,
     "metadata": {},
     "output_type": "execute_result"
    }
   ],
   "source": [
    "def meanNormalizeRates(df):\n",
    "    rates = df[['1B_rate', '2B_rate', '3B_rate', 'HR_rate', 'BB_rate']]\n",
    "    df[['1B_rate', '2B_rate', '3B_rate', 'HR_rate', 'BB_rate']] = rates - rates.mean(axis = 0)\n",
    "    return df\n",
    "\n",
    "team_stats = team_stats.groupby('yearID').apply(meanNormalizeRates)\n",
    "team_stats.head()"
   ]
  },
  {
   "cell_type": "markdown",
   "metadata": {},
   "source": [
    "Simple linear regression to predict the number of wins from the average adjusted singles, double, triples, HR, and BB rates. I will use this  model to define a new sabermetric feature - Predicted Wins (PW).\n",
    "\n",
    "I will use sklearns train/test split and I will use the Compute the mean squared error for this fitted model"
   ]
  },
  {
   "cell_type": "code",
   "execution_count": 12,
   "metadata": {
    "collapsed": false
   },
   "outputs": [
    {
     "data": {
      "text/plain": [
       "[('1B_rate', -13.539353435661972),\n",
       " ('2B_rate', 37.236560223094209),\n",
       " ('3B_rate', 165.67830551826663),\n",
       " ('HR_rate', 180.35913100337655),\n",
       " ('BB_rate', 96.309953004836174)]"
      ]
     },
     "execution_count": 12,
     "metadata": {},
     "output_type": "execute_result"
    }
   ],
   "source": [
    "from sklearn.linear_model import LinearRegression\n",
    "from sklearn.cross_validation import train_test_split\n",
    "\n",
    "# predictor variables \n",
    "feature_columns = ['1B_rate', '2B_rate', '3B_rate', 'HR_rate', 'BB_rate']\n",
    "\n",
    "# train test split\n",
    "X_train, X_test, y_train, y_test = train_test_split(team_stats[feature_columns], \n",
    "                                                    team_stats['W'], test_size = 0.25, random_state = 100)\n",
    "# initialize linear regression\n",
    "lm = LinearRegression()\n",
    "# fit training set\n",
    "lm.fit(X_train, y_train)\n",
    "# show coefficients\n",
    "zip(feature_columns, lm.coef_)"
   ]
  },
  {
   "cell_type": "markdown",
   "metadata": {},
   "source": [
    "The lowest mean squared error with any combination of the feature variables was the model with all the variabels included"
   ]
  },
  {
   "cell_type": "code",
   "execution_count": 13,
   "metadata": {
    "collapsed": false
   },
   "outputs": [
    {
     "name": "stdout",
     "output_type": "stream",
     "text": [
      "The mean squared error is 122.76\n"
     ]
    }
   ],
   "source": [
    "# predict on the testing set\n",
    "pred = lm.predict(X_test)\n",
    "# compute RSS\n",
    "RSS = np.mean((pred - y_test)**2)\n",
    "print 'The mean squared error is %.2f' %(RSS)"
   ]
  },
  {
   "cell_type": "markdown",
   "metadata": {},
   "source": [
    "I will now do a similiar thing to the player dataframe, by first subseting the players frame to only include players with atleast 500 plate appearances and after the 1947 again. I will again compute the singles, doubles, triples, HR, BB per plate appearance rates"
   ]
  },
  {
   "cell_type": "code",
   "execution_count": 14,
   "metadata": {
    "collapsed": false
   },
   "outputs": [],
   "source": [
    "# fill both HBP and IBB with 0 where they result in NA\n",
    "players.HBP.fillna(0, inplace = True)\n",
    "players.IBB.fillna(0, inplace = True)\n",
    "# subset players on copy of data\n",
    "sub_players = players[(players.AB + players.BB >= 500) & (players.yearID > 1947)].copy()\n",
    "\n",
    "sub_players['PA'] = sub_players.H + sub_players.BB + sub_players.HBP\n",
    "sub_players['1B'] = sub_players.H - sub_players['2B'] - sub_players['3B'] - sub_players['HR']\n",
    "\n",
    "for col in ['1B', '2B', '3B', 'HR', 'BB']:\n",
    "    sub_players[col + '_rate'] = sub_players[col] / sub_players.PA\n",
    "player_stats = sub_players[['playerID', 'yearID', '1B_rate', '2B_rate', '3B_rate', 'HR_rate', 'BB_rate']]"
   ]
  },
  {
   "cell_type": "code",
   "execution_count": 15,
   "metadata": {
    "collapsed": false
   },
   "outputs": [
    {
     "data": {
      "text/html": [
       "<div>\n",
       "<table border=\"1\" class=\"dataframe\">\n",
       "  <thead>\n",
       "    <tr style=\"text-align: right;\">\n",
       "      <th></th>\n",
       "      <th>playerID</th>\n",
       "      <th>yearID</th>\n",
       "      <th>1B_rate</th>\n",
       "      <th>2B_rate</th>\n",
       "      <th>3B_rate</th>\n",
       "      <th>HR_rate</th>\n",
       "      <th>BB_rate</th>\n",
       "    </tr>\n",
       "  </thead>\n",
       "  <tbody>\n",
       "    <tr>\n",
       "      <th>33320</th>\n",
       "      <td>applilu01</td>\n",
       "      <td>1948</td>\n",
       "      <td>0.552000</td>\n",
       "      <td>0.064000</td>\n",
       "      <td>0.008000</td>\n",
       "      <td>0.000000</td>\n",
       "      <td>0.376000</td>\n",
       "    </tr>\n",
       "    <tr>\n",
       "      <th>33322</th>\n",
       "      <td>ashburi01</td>\n",
       "      <td>1948</td>\n",
       "      <td>0.609302</td>\n",
       "      <td>0.079070</td>\n",
       "      <td>0.018605</td>\n",
       "      <td>0.009302</td>\n",
       "      <td>0.279070</td>\n",
       "    </tr>\n",
       "    <tr>\n",
       "      <th>33358</th>\n",
       "      <td>boudrlo01</td>\n",
       "      <td>1948</td>\n",
       "      <td>0.471572</td>\n",
       "      <td>0.113712</td>\n",
       "      <td>0.020067</td>\n",
       "      <td>0.060201</td>\n",
       "      <td>0.327759</td>\n",
       "    </tr>\n",
       "    <tr>\n",
       "      <th>33384</th>\n",
       "      <td>chapmsa01</td>\n",
       "      <td>1948</td>\n",
       "      <td>0.456140</td>\n",
       "      <td>0.105263</td>\n",
       "      <td>0.035088</td>\n",
       "      <td>0.076023</td>\n",
       "      <td>0.321637</td>\n",
       "    </tr>\n",
       "    <tr>\n",
       "      <th>33391</th>\n",
       "      <td>coangi01</td>\n",
       "      <td>1948</td>\n",
       "      <td>0.538922</td>\n",
       "      <td>0.077844</td>\n",
       "      <td>0.053892</td>\n",
       "      <td>0.041916</td>\n",
       "      <td>0.245509</td>\n",
       "    </tr>\n",
       "  </tbody>\n",
       "</table>\n",
       "</div>"
      ],
      "text/plain": [
       "        playerID  yearID   1B_rate   2B_rate   3B_rate   HR_rate   BB_rate\n",
       "33320  applilu01    1948  0.552000  0.064000  0.008000  0.000000  0.376000\n",
       "33322  ashburi01    1948  0.609302  0.079070  0.018605  0.009302  0.279070\n",
       "33358  boudrlo01    1948  0.471572  0.113712  0.020067  0.060201  0.327759\n",
       "33384  chapmsa01    1948  0.456140  0.105263  0.035088  0.076023  0.321637\n",
       "33391   coangi01    1948  0.538922  0.077844  0.053892  0.041916  0.245509"
      ]
     },
     "execution_count": 15,
     "metadata": {},
     "output_type": "execute_result"
    }
   ],
   "source": [
    "player_stats.groupby('yearID').apply(meanNormalizeRates)\n",
    "player_stats.head()"
   ]
  },
  {
   "cell_type": "markdown",
   "metadata": {},
   "source": [
    "\n",
    "Create function to calculate the lifetime stats for each player and pluck out the year from the start and end game for their career. Get the average lifetime statistics (1B, 2B, 3B, HR and BB) for each player.  "
   ]
  },
  {
   "cell_type": "code",
   "execution_count": 16,
   "metadata": {
    "collapsed": true
   },
   "outputs": [],
   "source": [
    "def lifetimeStats(df):\n",
    "    df = df[['playerID', '1B_rate', '2B_rate', '3B_rate', 'HR_rate', 'BB_rate']].mean()\n",
    "    return df"
   ]
  },
  {
   "cell_type": "code",
   "execution_count": 17,
   "metadata": {
    "collapsed": true
   },
   "outputs": [],
   "source": [
    "def get_year(x):\n",
    "    return int(x[-4:])"
   ]
  },
  {
   "cell_type": "markdown",
   "metadata": {},
   "source": [
    "group by playerID to compute lifetime stats and reset index"
   ]
  },
  {
   "cell_type": "code",
   "execution_count": 18,
   "metadata": {
    "collapsed": false
   },
   "outputs": [],
   "source": [
    "player_lifetime_stats = player_stats.groupby('playerID').apply(lifetimeStats)\n",
    "# reset index, not to use playerID as index and not use misc numbers\n",
    "player_lifetime_stats = player_lifetime_stats.reset_index()"
   ]
  },
  {
   "cell_type": "markdown",
   "metadata": {},
   "source": [
    "Merge the master dataframe with debut and finalGame with the new data frame just created"
   ]
  },
  {
   "cell_type": "code",
   "execution_count": 19,
   "metadata": {
    "collapsed": false
   },
   "outputs": [],
   "source": [
    "sub_master = master[['playerID', 'debut', 'finalGame']]\n",
    "\n",
    "player_lifetime_stats = pd.merge(sub_master, player_lifetime_stats, on = 'playerID')"
   ]
  },
  {
   "cell_type": "markdown",
   "metadata": {},
   "source": [
    "Apply the get_year function to return the year of the first and last game played for that player"
   ]
  },
  {
   "cell_type": "code",
   "execution_count": 20,
   "metadata": {
    "collapsed": false
   },
   "outputs": [],
   "source": [
    "# pluck out year\n",
    "player_lifetime_stats['debut'] = player_lifetime_stats.debut.apply(get_year)\n",
    "player_lifetime_stats['finalGame'] = player_lifetime_stats.finalGame.apply(get_year)\n",
    "\n",
    "# set new column names\n",
    "cols = list(player_lifetime_stats.columns)\n",
    "cols[1:3] = ['debutYear', 'finalYear']\n",
    "player_lifetime_stats.columns = cols"
   ]
  },
  {
   "cell_type": "markdown",
   "metadata": {},
   "source": [
    "Now use the prediction model that we created previously to add a new column to the `player_lifetime_stats` dataframe for the players Predicted Wins"
   ]
  },
  {
   "cell_type": "code",
   "execution_count": 21,
   "metadata": {
    "collapsed": false
   },
   "outputs": [],
   "source": [
    "player_avg = player_lifetime_stats[['1B_rate', '2B_rate', '3B_rate', 'HR_rate', 'BB_rate']].values\n",
    "\n",
    "player_lifetime_stats['PW'] = lm.predict(player_avg)"
   ]
  },
  {
   "cell_type": "code",
   "execution_count": 22,
   "metadata": {
    "collapsed": false
   },
   "outputs": [
    {
     "data": {
      "text/html": [
       "<div>\n",
       "<table border=\"1\" class=\"dataframe\">\n",
       "  <thead>\n",
       "    <tr style=\"text-align: right;\">\n",
       "      <th></th>\n",
       "      <th>playerID</th>\n",
       "      <th>debutYear</th>\n",
       "      <th>finalYear</th>\n",
       "      <th>1B_rate</th>\n",
       "      <th>2B_rate</th>\n",
       "      <th>3B_rate</th>\n",
       "      <th>HR_rate</th>\n",
       "      <th>BB_rate</th>\n",
       "      <th>PW</th>\n",
       "    </tr>\n",
       "  </thead>\n",
       "  <tbody>\n",
       "    <tr>\n",
       "      <th>0</th>\n",
       "      <td>aaronha01</td>\n",
       "      <td>1954</td>\n",
       "      <td>1976</td>\n",
       "      <td>0.440640</td>\n",
       "      <td>0.119938</td>\n",
       "      <td>0.019427</td>\n",
       "      <td>0.144185</td>\n",
       "      <td>0.269768</td>\n",
       "      <td>134.672075</td>\n",
       "    </tr>\n",
       "    <tr>\n",
       "      <th>1</th>\n",
       "      <td>abramca01</td>\n",
       "      <td>1949</td>\n",
       "      <td>1956</td>\n",
       "      <td>0.521505</td>\n",
       "      <td>0.053763</td>\n",
       "      <td>0.032258</td>\n",
       "      <td>0.080645</td>\n",
       "      <td>0.311828</td>\n",
       "      <td>125.829826</td>\n",
       "    </tr>\n",
       "    <tr>\n",
       "      <th>2</th>\n",
       "      <td>abreubo01</td>\n",
       "      <td>1996</td>\n",
       "      <td>2014</td>\n",
       "      <td>0.390708</td>\n",
       "      <td>0.144851</td>\n",
       "      <td>0.015337</td>\n",
       "      <td>0.075654</td>\n",
       "      <td>0.365393</td>\n",
       "      <td>132.447658</td>\n",
       "    </tr>\n",
       "    <tr>\n",
       "      <th>3</th>\n",
       "      <td>abreujo02</td>\n",
       "      <td>2014</td>\n",
       "      <td>2014</td>\n",
       "      <td>0.432773</td>\n",
       "      <td>0.147059</td>\n",
       "      <td>0.008403</td>\n",
       "      <td>0.151261</td>\n",
       "      <td>0.214286</td>\n",
       "      <td>129.894829</td>\n",
       "    </tr>\n",
       "    <tr>\n",
       "      <th>4</th>\n",
       "      <td>ackledu01</td>\n",
       "      <td>2011</td>\n",
       "      <td>2014</td>\n",
       "      <td>0.504489</td>\n",
       "      <td>0.141565</td>\n",
       "      <td>0.017760</td>\n",
       "      <td>0.074916</td>\n",
       "      <td>0.251776</td>\n",
       "      <td>120.110801</td>\n",
       "    </tr>\n",
       "  </tbody>\n",
       "</table>\n",
       "</div>"
      ],
      "text/plain": [
       "    playerID  debutYear  finalYear   1B_rate   2B_rate   3B_rate   HR_rate  \\\n",
       "0  aaronha01       1954       1976  0.440640  0.119938  0.019427  0.144185   \n",
       "1  abramca01       1949       1956  0.521505  0.053763  0.032258  0.080645   \n",
       "2  abreubo01       1996       2014  0.390708  0.144851  0.015337  0.075654   \n",
       "3  abreujo02       2014       2014  0.432773  0.147059  0.008403  0.151261   \n",
       "4  ackledu01       2011       2014  0.504489  0.141565  0.017760  0.074916   \n",
       "\n",
       "    BB_rate          PW  \n",
       "0  0.269768  134.672075  \n",
       "1  0.311828  125.829826  \n",
       "2  0.365393  132.447658  \n",
       "3  0.214286  129.894829  \n",
       "4  0.251776  120.110801  "
      ]
     },
     "execution_count": 22,
     "metadata": {},
     "output_type": "execute_result"
    }
   ],
   "source": [
    "player_lifetime_stats.head()"
   ]
  },
  {
   "cell_type": "markdown",
   "metadata": {},
   "source": [
    "Using another data frame loaded in previously, `fielding`, add new columns to `player_lifetime_stats` that includes the position of each player, first name, last name, and median salary"
   ]
  },
  {
   "cell_type": "code",
   "execution_count": 23,
   "metadata": {
    "collapsed": false
   },
   "outputs": [],
   "source": [
    "from collections import defaultdict\n",
    "\n",
    "def add_positon(df):\n",
    "    positions = df.POS\n",
    "    d = defaultdict(int)\n",
    "    for pos in positions:\n",
    "        d[pos] += 1\n",
    "    result = max(d.iteritems(), key = lambda x: x[1])\n",
    "    return result[0]\n",
    "\n",
    "player_position = fielding.groupby('playerID').apply(add_positon)\n",
    "# reset index\n",
    "player_position = player_position.reset_index()\n",
    "# rename column \n",
    "player_position = player_position.rename(columns = {0:'POS'})"
   ]
  },
  {
   "cell_type": "markdown",
   "metadata": {},
   "source": [
    "Merge this new data frame with the `player_lifetime_stats` then again merge `player_lifetime_stats` with the medianSalary dataframe the we previously created for each player"
   ]
  },
  {
   "cell_type": "code",
   "execution_count": 24,
   "metadata": {
    "collapsed": true
   },
   "outputs": [],
   "source": [
    "player_lifetime_merged = pd.merge(player_position, player_lifetime_stats, on = 'playerID', how = 'inner')\n",
    "player_lifetime_merged = pd.merge(player_lifetime_merged, medianSalaries, on = 'playerID', how = 'inner')"
   ]
  },
  {
   "cell_type": "code",
   "execution_count": 25,
   "metadata": {
    "collapsed": false
   },
   "outputs": [
    {
     "data": {
      "text/html": [
       "<div>\n",
       "<table border=\"1\" class=\"dataframe\">\n",
       "  <thead>\n",
       "    <tr style=\"text-align: right;\">\n",
       "      <th></th>\n",
       "      <th>playerID</th>\n",
       "      <th>POS</th>\n",
       "      <th>debutYear</th>\n",
       "      <th>finalYear</th>\n",
       "      <th>1B_rate</th>\n",
       "      <th>2B_rate</th>\n",
       "      <th>3B_rate</th>\n",
       "      <th>HR_rate</th>\n",
       "      <th>BB_rate</th>\n",
       "      <th>PW</th>\n",
       "      <th>nameFirst</th>\n",
       "      <th>nameLast</th>\n",
       "      <th>salary</th>\n",
       "    </tr>\n",
       "  </thead>\n",
       "  <tbody>\n",
       "    <tr>\n",
       "      <th>0</th>\n",
       "      <td>abreubo01</td>\n",
       "      <td>OF</td>\n",
       "      <td>1996</td>\n",
       "      <td>2014</td>\n",
       "      <td>0.390708</td>\n",
       "      <td>0.144851</td>\n",
       "      <td>0.015337</td>\n",
       "      <td>0.075654</td>\n",
       "      <td>0.365393</td>\n",
       "      <td>132.447658</td>\n",
       "      <td>Bobby</td>\n",
       "      <td>Abreu</td>\n",
       "      <td>9000000</td>\n",
       "    </tr>\n",
       "    <tr>\n",
       "      <th>1</th>\n",
       "      <td>abreujo02</td>\n",
       "      <td>1B</td>\n",
       "      <td>2014</td>\n",
       "      <td>2014</td>\n",
       "      <td>0.432773</td>\n",
       "      <td>0.147059</td>\n",
       "      <td>0.008403</td>\n",
       "      <td>0.151261</td>\n",
       "      <td>0.214286</td>\n",
       "      <td>129.894829</td>\n",
       "      <td>Jose</td>\n",
       "      <td>Abreu</td>\n",
       "      <td>7000000</td>\n",
       "    </tr>\n",
       "    <tr>\n",
       "      <th>2</th>\n",
       "      <td>ackledu01</td>\n",
       "      <td>1B</td>\n",
       "      <td>2011</td>\n",
       "      <td>2014</td>\n",
       "      <td>0.504489</td>\n",
       "      <td>0.141565</td>\n",
       "      <td>0.017760</td>\n",
       "      <td>0.074916</td>\n",
       "      <td>0.251776</td>\n",
       "      <td>120.110801</td>\n",
       "      <td>Dustin</td>\n",
       "      <td>Ackley</td>\n",
       "      <td>2100000</td>\n",
       "    </tr>\n",
       "    <tr>\n",
       "      <th>3</th>\n",
       "      <td>adamsma01</td>\n",
       "      <td>1B</td>\n",
       "      <td>2012</td>\n",
       "      <td>2014</td>\n",
       "      <td>0.541436</td>\n",
       "      <td>0.187845</td>\n",
       "      <td>0.027624</td>\n",
       "      <td>0.082873</td>\n",
       "      <td>0.143646</td>\n",
       "      <td>113.989247</td>\n",
       "      <td>Matt</td>\n",
       "      <td>Adams</td>\n",
       "      <td>503000</td>\n",
       "    </tr>\n",
       "    <tr>\n",
       "      <th>4</th>\n",
       "      <td>adamsru01</td>\n",
       "      <td>SS</td>\n",
       "      <td>2004</td>\n",
       "      <td>2009</td>\n",
       "      <td>0.471591</td>\n",
       "      <td>0.153409</td>\n",
       "      <td>0.028409</td>\n",
       "      <td>0.045455</td>\n",
       "      <td>0.284091</td>\n",
       "      <td>120.560102</td>\n",
       "      <td>Russ</td>\n",
       "      <td>Adams</td>\n",
       "      <td>329500</td>\n",
       "    </tr>\n",
       "  </tbody>\n",
       "</table>\n",
       "</div>"
      ],
      "text/plain": [
       "    playerID POS  debutYear  finalYear   1B_rate   2B_rate   3B_rate  \\\n",
       "0  abreubo01  OF       1996       2014  0.390708  0.144851  0.015337   \n",
       "1  abreujo02  1B       2014       2014  0.432773  0.147059  0.008403   \n",
       "2  ackledu01  1B       2011       2014  0.504489  0.141565  0.017760   \n",
       "3  adamsma01  1B       2012       2014  0.541436  0.187845  0.027624   \n",
       "4  adamsru01  SS       2004       2009  0.471591  0.153409  0.028409   \n",
       "\n",
       "    HR_rate   BB_rate          PW nameFirst nameLast   salary  \n",
       "0  0.075654  0.365393  132.447658     Bobby    Abreu  9000000  \n",
       "1  0.151261  0.214286  129.894829      Jose    Abreu  7000000  \n",
       "2  0.074916  0.251776  120.110801    Dustin   Ackley  2100000  \n",
       "3  0.082873  0.143646  113.989247      Matt    Adams   503000  \n",
       "4  0.045455  0.284091  120.560102      Russ    Adams   329500  "
      ]
     },
     "execution_count": 25,
     "metadata": {},
     "output_type": "execute_result"
    }
   ],
   "source": [
    "player_lifetime_merged.head()"
   ]
  },
  {
   "cell_type": "markdown",
   "metadata": {},
   "source": [
    "Now I will subset the data to include players that are active in 2013 and 2014 that have played for atleast 2 years"
   ]
  },
  {
   "cell_type": "code",
   "execution_count": 91,
   "metadata": {
    "collapsed": false
   },
   "outputs": [],
   "source": [
    "active_players = player_lifetime_merged[(player_lifetime_merged.debutYear <= 2010) & \\\n",
    "                                        (player_lifetime_merged.finalYear >= 2014) & \\\n",
    "                                       (player_lifetime_merged.finalYear - player_lifetime_merged.debutYear >= 2)]"
   ]
  },
  {
   "cell_type": "markdown",
   "metadata": {},
   "source": [
    "Plot the relationship between the median salary of each player and the predicted number of wins"
   ]
  },
  {
   "cell_type": "code",
   "execution_count": 92,
   "metadata": {
    "collapsed": false
   },
   "outputs": [
    {
     "data": {
      "image/png": "[encoded data removed]",
      "text/plain": [
       "<matplotlib.figure.Figure at 0x1134b7290>"
      ]
     },
     "metadata": {},
     "output_type": "display_data"
    }
   ],
   "source": [
    "fig = plt.figure()\n",
    "ax = fig.gca()\n",
    "\n",
    "ax.scatter(active_players.salary / 1e6, active_players.PW, c = 'r')\n",
    "ax.set_xscale('log')\n",
    "ax.set_ylabel('Predicted Wins')\n",
    "ax.set_xlabel('Salary in Millions(log)')\n",
    "ax.set_title('Relationship between Predicted Wins and Salary')\n",
    "plt.tight_layout()"
   ]
  },
  {
   "cell_type": "markdown",
   "metadata": {},
   "source": [
    "Now we can get to the fun part, we have our data ready to actually predict our best players and create a team. Pick one players from one of each of these 10 position C, 1B, 2B, 3B, SS, LF, CF, RF, or OF keeping the total median salary of all 10 players below 20 million. Report their averaged predicted wins and total salary. we will crate our best team using the newly created column of predicted wins. "
   ]
  },
  {
   "cell_type": "code",
   "execution_count": 93,
   "metadata": {
    "collapsed": false
   },
   "outputs": [],
   "source": [
    "s = salaries.groupby(['teamID', 'yearID'], as_index=False).sum()\n",
    "s = s[s.yearID >= 2012]"
   ]
  },
  {
   "cell_type": "code",
   "execution_count": 94,
   "metadata": {
    "collapsed": false
   },
   "outputs": [
    {
     "data": {
      "image/png": "[encoded data removed]",
      "text/plain": [
       "<matplotlib.figure.Figure at 0x11112cb10>"
      ]
     },
     "metadata": {},
     "output_type": "display_data"
    }
   ],
   "source": [
    "years = np.arange(2012, 2015)\n",
    "\n",
    "for year in years:\n",
    "    s3 = s[s.yearID == year]\n",
    "    plt.scatter(np.arange(1,len(s3.salary)+1), s3.salary / 1e6)\n",
    "    plt.axhline(y = 20, c = 'r')"
   ]
  },
  {
   "cell_type": "markdown",
   "metadata": {
    "collapsed": true
   },
   "source": [
    "First, we mean normalize the `OP` by position to compute a position specific residual"
   ]
  },
  {
   "cell_type": "code",
   "execution_count": 95,
   "metadata": {
    "collapsed": true
   },
   "outputs": [],
   "source": [
    "def meanNormalizePW(df):\n",
    "    tmp = df[['resid']]\n",
    "    df[['resid']] = tmp - tmp.median()\n",
    "    return df"
   ]
  },
  {
   "cell_type": "code",
   "execution_count": 96,
   "metadata": {
    "collapsed": false
   },
   "outputs": [
    {
     "name": "stderr",
     "output_type": "stream",
     "text": [
      "/Users/mattevanoff/anaconda/lib/python2.7/site-packages/IPython/kernel/__main__.py:1: SettingWithCopyWarning: \n",
      "A value is trying to be set on a copy of a slice from a DataFrame.\n",
      "Try using .loc[row_indexer,col_indexer] = value instead\n",
      "\n",
      "See the the caveats in the documentation: http://pandas.pydata.org/pandas-docs/stable/indexing.html#indexing-view-versus-copy\n",
      "  if __name__ == '__main__':\n"
     ]
    }
   ],
   "source": [
    "active_players['resid'] = active_players.PW\n",
    "active_players = active_players.groupby('POS').apply(meanNormalizePW)"
   ]
  },
  {
   "cell_type": "markdown",
   "metadata": {},
   "source": [
    "Next, fit a linear regression to calcualate the residuals"
   ]
  },
  {
   "cell_type": "code",
   "execution_count": 97,
   "metadata": {
    "collapsed": true
   },
   "outputs": [],
   "source": [
    "y = active_players.resid.values\n",
    "X = np.log(active_players[['salary']])\n",
    "\n",
    "lm = LinearRegression()\n",
    "lm.fit(X, y)\n",
    "\n",
    "active_players['resid'] = y - lm.predict(X)"
   ]
  },
  {
   "cell_type": "code",
   "execution_count": 98,
   "metadata": {
    "collapsed": false
   },
   "outputs": [
    {
     "data": {
      "text/html": [
       "<div>\n",
       "<table border=\"1\" class=\"dataframe\">\n",
       "  <thead>\n",
       "    <tr style=\"text-align: right;\">\n",
       "      <th></th>\n",
       "      <th>playerID</th>\n",
       "      <th>POS</th>\n",
       "      <th>debutYear</th>\n",
       "      <th>finalYear</th>\n",
       "      <th>1B_rate</th>\n",
       "      <th>2B_rate</th>\n",
       "      <th>3B_rate</th>\n",
       "      <th>HR_rate</th>\n",
       "      <th>BB_rate</th>\n",
       "      <th>PW</th>\n",
       "      <th>nameFirst</th>\n",
       "      <th>nameLast</th>\n",
       "      <th>salary</th>\n",
       "      <th>resid</th>\n",
       "    </tr>\n",
       "  </thead>\n",
       "  <tbody>\n",
       "    <tr>\n",
       "      <th>0</th>\n",
       "      <td>abreubo01</td>\n",
       "      <td>OF</td>\n",
       "      <td>1996</td>\n",
       "      <td>2014</td>\n",
       "      <td>0.390708</td>\n",
       "      <td>0.144851</td>\n",
       "      <td>0.015337</td>\n",
       "      <td>0.075654</td>\n",
       "      <td>0.365393</td>\n",
       "      <td>132.447658</td>\n",
       "      <td>Bobby</td>\n",
       "      <td>Abreu</td>\n",
       "      <td>9000000</td>\n",
       "      <td>4.564112</td>\n",
       "    </tr>\n",
       "    <tr>\n",
       "      <th>10</th>\n",
       "      <td>alonsyo01</td>\n",
       "      <td>1B</td>\n",
       "      <td>2010</td>\n",
       "      <td>2014</td>\n",
       "      <td>0.474419</td>\n",
       "      <td>0.181395</td>\n",
       "      <td>0.000000</td>\n",
       "      <td>0.041860</td>\n",
       "      <td>0.288372</td>\n",
       "      <td>116.621255</td>\n",
       "      <td>Yonder</td>\n",
       "      <td>Alonso</td>\n",
       "      <td>1120000</td>\n",
       "      <td>-13.777732</td>\n",
       "    </tr>\n",
       "    <tr>\n",
       "      <th>13</th>\n",
       "      <td>alvarpe01</td>\n",
       "      <td>3B</td>\n",
       "      <td>2010</td>\n",
       "      <td>2014</td>\n",
       "      <td>0.385856</td>\n",
       "      <td>0.127644</td>\n",
       "      <td>0.008183</td>\n",
       "      <td>0.179546</td>\n",
       "      <td>0.285094</td>\n",
       "      <td>141.691677</td>\n",
       "      <td>Pedro</td>\n",
       "      <td>Alvarez</td>\n",
       "      <td>2125000</td>\n",
       "      <td>17.775433</td>\n",
       "    </tr>\n",
       "    <tr>\n",
       "      <th>18</th>\n",
       "      <td>andruel01</td>\n",
       "      <td>SS</td>\n",
       "      <td>2009</td>\n",
       "      <td>2014</td>\n",
       "      <td>0.589712</td>\n",
       "      <td>0.108909</td>\n",
       "      <td>0.022068</td>\n",
       "      <td>0.016065</td>\n",
       "      <td>0.241313</td>\n",
       "      <td>106.832710</td>\n",
       "      <td>Elvis</td>\n",
       "      <td>Andrus</td>\n",
       "      <td>1538590</td>\n",
       "      <td>-8.314052</td>\n",
       "    </tr>\n",
       "    <tr>\n",
       "      <th>26</th>\n",
       "      <td>avilaal01</td>\n",
       "      <td>C</td>\n",
       "      <td>2009</td>\n",
       "      <td>2014</td>\n",
       "      <td>0.380282</td>\n",
       "      <td>0.154930</td>\n",
       "      <td>0.018779</td>\n",
       "      <td>0.089202</td>\n",
       "      <td>0.342723</td>\n",
       "      <td>133.794633</td>\n",
       "      <td>Alex</td>\n",
       "      <td>Avila</td>\n",
       "      <td>510000</td>\n",
       "      <td>15.209705</td>\n",
       "    </tr>\n",
       "  </tbody>\n",
       "</table>\n",
       "</div>"
      ],
      "text/plain": [
       "     playerID POS  debutYear  finalYear   1B_rate   2B_rate   3B_rate  \\\n",
       "0   abreubo01  OF       1996       2014  0.390708  0.144851  0.015337   \n",
       "10  alonsyo01  1B       2010       2014  0.474419  0.181395  0.000000   \n",
       "13  alvarpe01  3B       2010       2014  0.385856  0.127644  0.008183   \n",
       "18  andruel01  SS       2009       2014  0.589712  0.108909  0.022068   \n",
       "26  avilaal01   C       2009       2014  0.380282  0.154930  0.018779   \n",
       "\n",
       "     HR_rate   BB_rate          PW nameFirst nameLast   salary      resid  \n",
       "0   0.075654  0.365393  132.447658     Bobby    Abreu  9000000   4.564112  \n",
       "10  0.041860  0.288372  116.621255    Yonder   Alonso  1120000 -13.777732  \n",
       "13  0.179546  0.285094  141.691677     Pedro  Alvarez  2125000  17.775433  \n",
       "18  0.016065  0.241313  106.832710     Elvis   Andrus  1538590  -8.314052  \n",
       "26  0.089202  0.342723  133.794633      Alex    Avila   510000  15.209705  "
      ]
     },
     "execution_count": 98,
     "metadata": {},
     "output_type": "execute_result"
    }
   ],
   "source": [
    "active_players.head()"
   ]
  },
  {
   "cell_type": "markdown",
   "metadata": {},
   "source": [
    "The resid columns contains about a half of the values as negitive residuals, we can eliminate them as they won't be on our team"
   ]
  },
  {
   "cell_type": "code",
   "execution_count": 99,
   "metadata": {
    "collapsed": false
   },
   "outputs": [
    {
     "data": {
      "text/plain": [
       "OF    77\n",
       "SS    28\n",
       "1B    26\n",
       "3B    22\n",
       "2B    22\n",
       "C     18\n",
       "LF    17\n",
       "dtype: int64"
      ]
     },
     "execution_count": 99,
     "metadata": {},
     "output_type": "execute_result"
    }
   ],
   "source": [
    "active_players.POS.value_counts()"
   ]
  },
  {
   "cell_type": "code",
   "execution_count": 143,
   "metadata": {
    "collapsed": false
   },
   "outputs": [],
   "source": [
    "# since we don't really care about negitive resids, we can eliminate them.\n",
    "active_players = active_players[active_players.resid > 0]"
   ]
  },
  {
   "cell_type": "markdown",
   "metadata": {},
   "source": [
    "We can then calculate the minimum salary for each position so we can make sure that we reserve that much money for each position and not go over our alloted cap"
   ]
  },
  {
   "cell_type": "code",
   "execution_count": 144,
   "metadata": {
    "collapsed": true
   },
   "outputs": [],
   "source": [
    "def calc_min_salary(salary):\n",
    "    return np.min(salary['salary'])"
   ]
  },
  {
   "cell_type": "code",
   "execution_count": 145,
   "metadata": {
    "collapsed": false
   },
   "outputs": [],
   "source": [
    "minSalariesPos = active_players.groupby('POS').apply(calc_min_salary)\n",
    "minSalariesPos.sort(ascending = False)"
   ]
  },
  {
   "cell_type": "code",
   "execution_count": 146,
   "metadata": {
    "collapsed": false
   },
   "outputs": [],
   "source": [
    "money_cap = 20 * 1e6"
   ]
  },
  {
   "cell_type": "markdown",
   "metadata": {},
   "source": [
    "Now we can iterate through all the positions and draft our player that is the farthest from the norm in regards to deviations from the mean. Then subtract that from the salary_cap and make sure we keep enough to afford all players. Since we do not have a 'RF' column in our subsete dataframe we add another outfield position to play right field"
   ]
  },
  {
   "cell_type": "code",
   "execution_count": 147,
   "metadata": {
    "collapsed": false
   },
   "outputs": [
    {
     "name": "stdout",
     "output_type": "stream",
     "text": [
      "['2B', 'C', '3B', 'SS', '1B', 'LF', 'OF', 'OF']\n"
     ]
    }
   ],
   "source": [
    "idx = []\n",
    "\n",
    "pos_left = list(minSalariesPos.index)\n",
    "pos_left.append('OF')\n",
    "print pos_left\n",
    "\n",
    "for i in range(len(pos_left)):\n",
    "    # this much money left\n",
    "    max_money = money_cap - np.sum([minSalariesPos[x] for x in pos_left[:-1]])\n",
    "    \n",
    "    # consider only players we havent drafted yet\n",
    "    index = [True if elem in pos_left else False for elem in active_players.POS.values]\n",
    "    players_left = active_players[index & (active_players.salary <= max_money)]\n",
    "    \n",
    "    # draft the one that stands out the most\n",
    "    player = players_left[\"resid\"].argmax()\n",
    "    idx.append(player)\n",
    "    \n",
    "    # remove drafted player\n",
    "    pos_left.remove(players_left.loc[player].POS)\n",
    "    money_cap = money_cap - players_left.loc[player].salary"
   ]
  },
  {
   "cell_type": "code",
   "execution_count": 148,
   "metadata": {
    "collapsed": true
   },
   "outputs": [],
   "source": [
    "draft = active_players.loc[idx, :]\n",
    "draft = draft.sort(['PW'], ascending = False)"
   ]
  },
  {
   "cell_type": "markdown",
   "metadata": {},
   "source": [
    "Show the total salary for my team"
   ]
  },
  {
   "cell_type": "code",
   "execution_count": 149,
   "metadata": {
    "collapsed": false
   },
   "outputs": [
    {
     "data": {
      "text/plain": [
       "17897500.0"
      ]
     },
     "execution_count": 149,
     "metadata": {},
     "output_type": "execute_result"
    }
   ],
   "source": [
    "draft['salary'].sum()"
   ]
  },
  {
   "cell_type": "markdown",
   "metadata": {},
   "source": [
    "We can compute the expected number of wins with our wins. Since we are only predicting offensive players, we only have 8 players, and my drafted team will play in the National League, we need to add a pitcher to my team. For simplification we just add a 0 to the Predicted Offensive wins since pitchers do not add much to offensive presence"
   ]
  },
  {
   "cell_type": "code",
   "execution_count": 168,
   "metadata": {
    "collapsed": false
   },
   "outputs": [
    {
     "data": {
      "text/plain": [
       "127.0"
      ]
     },
     "execution_count": 168,
     "metadata": {},
     "output_type": "execute_result"
    }
   ],
   "source": [
    "np.round((np.sum(draft['PW'])) / (len(draft['PW'])+ 1))"
   ]
  },
  {
   "cell_type": "markdown",
   "metadata": {},
   "source": [
    "Create a function to convert singles, doubles, triples, home runs, and walk into real number again"
   ]
  },
  {
   "cell_type": "code",
   "execution_count": 120,
   "metadata": {
    "collapsed": true
   },
   "outputs": [],
   "source": [
    "def computeReal(player):\n",
    "    return np.round(player * 1000)"
   ]
  },
  {
   "cell_type": "markdown",
   "metadata": {},
   "source": [
    "Finally subset the data to display our drafted team and show the desired columns"
   ]
  },
  {
   "cell_type": "code",
   "execution_count": 122,
   "metadata": {
    "collapsed": false
   },
   "outputs": [
    {
     "data": {
      "text/html": [
       "<div>\n",
       "<table border=\"1\" class=\"dataframe\">\n",
       "  <thead>\n",
       "    <tr style=\"text-align: right;\">\n",
       "      <th></th>\n",
       "      <th>nameFirst</th>\n",
       "      <th>nameLast</th>\n",
       "      <th>POS</th>\n",
       "      <th>1B</th>\n",
       "      <th>2B</th>\n",
       "      <th>3B</th>\n",
       "      <th>HR</th>\n",
       "      <th>BB</th>\n",
       "      <th>PW</th>\n",
       "      <th>salary</th>\n",
       "      <th>debutYear</th>\n",
       "    </tr>\n",
       "  </thead>\n",
       "  <tbody>\n",
       "    <tr>\n",
       "      <th>268</th>\n",
       "      <td>Adam</td>\n",
       "      <td>Dunn</td>\n",
       "      <td>OF</td>\n",
       "      <td>277</td>\n",
       "      <td>112</td>\n",
       "      <td>4</td>\n",
       "      <td>158</td>\n",
       "      <td>426</td>\n",
       "      <td>151</td>\n",
       "      <td>10500000</td>\n",
       "      <td>2001</td>\n",
       "    </tr>\n",
       "    <tr>\n",
       "      <th>157</th>\n",
       "      <td>Chris</td>\n",
       "      <td>Carter</td>\n",
       "      <td>1B</td>\n",
       "      <td>314</td>\n",
       "      <td>124</td>\n",
       "      <td>8</td>\n",
       "      <td>183</td>\n",
       "      <td>346</td>\n",
       "      <td>149</td>\n",
       "      <td>502000</td>\n",
       "      <td>2010</td>\n",
       "    </tr>\n",
       "    <tr>\n",
       "      <th>784</th>\n",
       "      <td>Mark</td>\n",
       "      <td>Reynolds</td>\n",
       "      <td>3B</td>\n",
       "      <td>297</td>\n",
       "      <td>128</td>\n",
       "      <td>7</td>\n",
       "      <td>163</td>\n",
       "      <td>374</td>\n",
       "      <td>148</td>\n",
       "      <td>2000000</td>\n",
       "      <td>2007</td>\n",
       "    </tr>\n",
       "    <tr>\n",
       "      <th>861</th>\n",
       "      <td>Giancarlo</td>\n",
       "      <td>Stanton</td>\n",
       "      <td>OF</td>\n",
       "      <td>325</td>\n",
       "      <td>132</td>\n",
       "      <td>14</td>\n",
       "      <td>153</td>\n",
       "      <td>350</td>\n",
       "      <td>145</td>\n",
       "      <td>508500</td>\n",
       "      <td>2010</td>\n",
       "    </tr>\n",
       "    <tr>\n",
       "      <th>819</th>\n",
       "      <td>Carlos</td>\n",
       "      <td>Santana</td>\n",
       "      <td>C</td>\n",
       "      <td>328</td>\n",
       "      <td>135</td>\n",
       "      <td>5</td>\n",
       "      <td>98</td>\n",
       "      <td>421</td>\n",
       "      <td>141</td>\n",
       "      <td>625950</td>\n",
       "      <td>2010</td>\n",
       "    </tr>\n",
       "    <tr>\n",
       "      <th>663</th>\n",
       "      <td>Logan</td>\n",
       "      <td>Morrison</td>\n",
       "      <td>LF</td>\n",
       "      <td>358</td>\n",
       "      <td>145</td>\n",
       "      <td>23</td>\n",
       "      <td>133</td>\n",
       "      <td>312</td>\n",
       "      <td>139</td>\n",
       "      <td>485750</td>\n",
       "      <td>2010</td>\n",
       "    </tr>\n",
       "    <tr>\n",
       "      <th>919</th>\n",
       "      <td>Luis</td>\n",
       "      <td>Valbuena</td>\n",
       "      <td>2B</td>\n",
       "      <td>355</td>\n",
       "      <td>177</td>\n",
       "      <td>22</td>\n",
       "      <td>86</td>\n",
       "      <td>349</td>\n",
       "      <td>136</td>\n",
       "      <td>712600</td>\n",
       "      <td>2008</td>\n",
       "    </tr>\n",
       "    <tr>\n",
       "      <th>1002</th>\n",
       "      <td>Ben</td>\n",
       "      <td>Zobrist</td>\n",
       "      <td>SS</td>\n",
       "      <td>400</td>\n",
       "      <td>147</td>\n",
       "      <td>19</td>\n",
       "      <td>69</td>\n",
       "      <td>352</td>\n",
       "      <td>131</td>\n",
       "      <td>2562700</td>\n",
       "      <td>2006</td>\n",
       "    </tr>\n",
       "  </tbody>\n",
       "</table>\n",
       "</div>"
      ],
      "text/plain": [
       "      nameFirst  nameLast POS   1B   2B  3B   HR   BB   PW    salary  \\\n",
       "268        Adam      Dunn  OF  277  112   4  158  426  151  10500000   \n",
       "157       Chris    Carter  1B  314  124   8  183  346  149    502000   \n",
       "784        Mark  Reynolds  3B  297  128   7  163  374  148   2000000   \n",
       "861   Giancarlo   Stanton  OF  325  132  14  153  350  145    508500   \n",
       "819      Carlos   Santana   C  328  135   5   98  421  141    625950   \n",
       "663       Logan  Morrison  LF  358  145  23  133  312  139    485750   \n",
       "919        Luis  Valbuena  2B  355  177  22   86  349  136    712600   \n",
       "1002        Ben   Zobrist  SS  400  147  19   69  352  131   2562700   \n",
       "\n",
       "      debutYear  \n",
       "268        2001  \n",
       "157        2010  \n",
       "784        2007  \n",
       "861        2010  \n",
       "819        2010  \n",
       "663        2010  \n",
       "919        2008  \n",
       "1002       2006  "
      ]
     },
     "execution_count": 122,
     "metadata": {},
     "output_type": "execute_result"
    }
   ],
   "source": [
    "draft[['1B', '2B', '3B' ,'HR', 'BB']] = draft[['1B_rate', '2B_rate', '3B_rate', 'HR_rate', 'BB_rate']].apply(computeReal)\n",
    "draft[['PW']] = np.round(draft.PW)\n",
    "draft[['nameFirst', 'nameLast', 'POS', '1B', '2B', '3B' ,'HR', 'BB', 'PW', 'salary', 'debutYear']]"
   ]
  },
  {
   "cell_type": "code",
   "execution_count": null,
   "metadata": {
    "collapsed": true
   },
   "outputs": [],
   "source": []
  }
 ],
 "metadata": {
  "kernelspec": {
   "display_name": "Python 2",
   "language": "python",
   "name": "python2"
  },
  "language_info": {
   "codemirror_mode": {
    "name": "ipython",
    "version": 2
   },
   "file_extension": ".py",
   "mimetype": "text/x-python",
   "name": "python",
   "nbconvert_exporter": "python",
   "pygments_lexer": "ipython2",
   "version": "2.7.10"
  }
 },
 "nbformat": 4,
 "nbformat_minor": 0
}
